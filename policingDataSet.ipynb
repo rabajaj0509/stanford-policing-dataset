{
 "cells": [
  {
   "cell_type": "code",
   "execution_count": 1,
   "metadata": {},
   "outputs": [],
   "source": [
    "import pandas as pd\n",
    "import seaborn as sns\n",
    "import matplotlib.pyplot as plt"
   ]
  },
  {
   "cell_type": "code",
   "execution_count": 46,
   "metadata": {},
   "outputs": [
    {
     "name": "stderr",
     "output_type": "stream",
     "text": [
      "/home/rabajaj/.conda/envs/rpb/lib/python3.8/site-packages/IPython/core/interactiveshell.py:3441: DtypeWarning: Columns (6,8,15,16,17,22,23,24,25,29,30,31,32,33,35,36,37,38,40,41) have mixed types.Specify dtype option on import or set low_memory=False.\n",
      "  exec(code_obj, self.user_global_ns, self.user_ns)\n"
     ]
    }
   ],
   "source": [
    "df = pd.read_csv('policing.csv')"
   ]
  },
  {
   "cell_type": "code",
   "execution_count": 47,
   "metadata": {},
   "outputs": [
    {
     "data": {
      "text/plain": [
       "Index(['raw_row_number', 'date', 'time', 'location', 'lat', 'lng', 'precinct',\n",
       "       'reporting_area', 'zone', 'subject_age', 'subject_race', 'subject_sex',\n",
       "       'officer_id_hash', 'type', 'violation', 'arrest_made',\n",
       "       'citation_issued', 'warning_issued', 'outcome', 'contraband_found',\n",
       "       'contraband_drugs', 'contraband_weapons', 'frisk_performed',\n",
       "       'search_conducted', 'search_person', 'search_vehicle', 'search_basis',\n",
       "       'reason_for_stop', 'vehicle_registration_state', 'notes',\n",
       "       'raw_verbal_warning_issued', 'raw_written_warning_issued',\n",
       "       'raw_traffic_citation_issued', 'raw_misd_state_citation_issued',\n",
       "       'raw_suspect_ethnicity', 'raw_driver_searched',\n",
       "       'raw_passenger_searched', 'raw_search_consent', 'raw_search_arrest',\n",
       "       'raw_search_warrant', 'raw_search_inventory', 'raw_search_plain_view'],\n",
       "      dtype='object')"
      ]
     },
     "execution_count": 47,
     "metadata": {},
     "output_type": "execute_result"
    }
   ],
   "source": [
    "df.columns"
   ]
  },
  {
   "cell_type": "code",
   "execution_count": 38,
   "metadata": {},
   "outputs": [
    {
     "name": "stdout",
     "output_type": "stream",
     "text": [
      "raw_row_number                          0\n",
      "date                                    0\n",
      "time                                 5467\n",
      "location                                0\n",
      "lat                                187106\n",
      "lng                                187106\n",
      "precinct                           390222\n",
      "reporting_area                     332393\n",
      "zone                               390222\n",
      "subject_age                           839\n",
      "subject_race                         1850\n",
      "subject_sex                         12822\n",
      "officer_id_hash                        11\n",
      "type                                    0\n",
      "violation                            8020\n",
      "arrest_made                            28\n",
      "citation_issued                       320\n",
      "warning_issued                        337\n",
      "outcome                              1935\n",
      "contraband_found                  2964646\n",
      "contraband_drugs                  2964646\n",
      "contraband_weapons                2964646\n",
      "frisk_performed                        22\n",
      "search_conducted                       39\n",
      "search_person                          43\n",
      "search_vehicle                         41\n",
      "search_basis                      2964646\n",
      "reason_for_stop                      8020\n",
      "vehicle_registration_state          31791\n",
      "notes                             2579696\n",
      "raw_verbal_warning_issued             337\n",
      "raw_written_warning_issued         493091\n",
      "raw_traffic_citation_issued           321\n",
      "raw_misd_state_citation_issued     693814\n",
      "raw_suspect_ethnicity                  77\n",
      "raw_driver_searched                    30\n",
      "raw_passenger_searched                  9\n",
      "raw_search_consent                     21\n",
      "raw_search_arrest                      13\n",
      "raw_search_warrant                      0\n",
      "raw_search_inventory                    2\n",
      "raw_search_plain_view                   7\n",
      "dtype: int64\n",
      "raw_row_number                          0\n",
      "date                                    0\n",
      "time                                 5458\n",
      "location                                0\n",
      "lat                                185838\n",
      "lng                                185838\n",
      "precinct                           387878\n",
      "reporting_area                     330426\n",
      "zone                               387878\n",
      "subject_age                           561\n",
      "subject_race                         1766\n",
      "subject_sex                             0\n",
      "officer_id_hash                         6\n",
      "type                                    0\n",
      "violation                            7783\n",
      "arrest_made                            28\n",
      "citation_issued                       319\n",
      "warning_issued                        333\n",
      "outcome                               343\n",
      "contraband_found                  2952346\n",
      "contraband_drugs                  2952346\n",
      "contraband_weapons                2952346\n",
      "frisk_performed                        22\n",
      "search_conducted                       38\n",
      "search_person                          42\n",
      "search_vehicle                         40\n",
      "search_basis                      2952346\n",
      "reason_for_stop                      7783\n",
      "vehicle_registration_state          31076\n",
      "notes                             2569944\n",
      "raw_verbal_warning_issued             333\n",
      "raw_written_warning_issued         491965\n",
      "raw_traffic_citation_issued           320\n",
      "raw_misd_state_citation_issued     693550\n",
      "raw_suspect_ethnicity                   1\n",
      "raw_driver_searched                    30\n",
      "raw_passenger_searched                  9\n",
      "raw_search_consent                     21\n",
      "raw_search_arrest                      13\n",
      "raw_search_warrant                      0\n",
      "raw_search_inventory                    2\n",
      "raw_search_plain_view                   7\n",
      "dtype: int64\n",
      "-----------------------------------------------------\n",
      "(3079529, 42)\n"
     ]
    }
   ],
   "source": [
    "print(df.isnull().sum())\n",
    "df.dropna(subset=[\"subject_sex\"], inplace=True)\n",
    "print(df.isnull().sum())\n",
    "print(\"-----------------------------------------------------\")\n",
    "print(df.shape)"
   ]
  },
  {
   "cell_type": "code",
   "execution_count": 39,
   "metadata": {},
   "outputs": [
    {
     "name": "stdout",
     "output_type": "stream",
     "text": [
      "(3079529, 42)\n"
     ]
    }
   ],
   "source": [
    "df.isnull().sum()\n",
    "print(df.shape)"
   ]
  },
  {
   "cell_type": "code",
   "execution_count": 40,
   "metadata": {},
   "outputs": [
    {
     "data": {
      "text/html": [
       "<div>\n",
       "<style scoped>\n",
       "    .dataframe tbody tr th:only-of-type {\n",
       "        vertical-align: middle;\n",
       "    }\n",
       "\n",
       "    .dataframe tbody tr th {\n",
       "        vertical-align: top;\n",
       "    }\n",
       "\n",
       "    .dataframe thead th {\n",
       "        text-align: right;\n",
       "    }\n",
       "</style>\n",
       "<table border=\"1\" class=\"dataframe\">\n",
       "  <thead>\n",
       "    <tr style=\"text-align: right;\">\n",
       "      <th></th>\n",
       "      <th>raw_row_number</th>\n",
       "      <th>date</th>\n",
       "      <th>time</th>\n",
       "      <th>location</th>\n",
       "      <th>lat</th>\n",
       "      <th>lng</th>\n",
       "      <th>precinct</th>\n",
       "      <th>reporting_area</th>\n",
       "      <th>zone</th>\n",
       "      <th>subject_age</th>\n",
       "      <th>...</th>\n",
       "      <th>raw_traffic_citation_issued</th>\n",
       "      <th>raw_misd_state_citation_issued</th>\n",
       "      <th>raw_suspect_ethnicity</th>\n",
       "      <th>raw_driver_searched</th>\n",
       "      <th>raw_passenger_searched</th>\n",
       "      <th>raw_search_consent</th>\n",
       "      <th>raw_search_arrest</th>\n",
       "      <th>raw_search_warrant</th>\n",
       "      <th>raw_search_inventory</th>\n",
       "      <th>raw_search_plain_view</th>\n",
       "    </tr>\n",
       "  </thead>\n",
       "  <tbody>\n",
       "    <tr>\n",
       "      <th>0</th>\n",
       "      <td>232947</td>\n",
       "      <td>2010-10-10</td>\n",
       "      <td>NaN</td>\n",
       "      <td>DOMINICAN DR &amp; ROSA L PARKS BLVD, NASHVILLE, T...</td>\n",
       "      <td>36.187925</td>\n",
       "      <td>-86.798519</td>\n",
       "      <td>6.0</td>\n",
       "      <td>4403.0</td>\n",
       "      <td>611.0</td>\n",
       "      <td>27.0</td>\n",
       "      <td>...</td>\n",
       "      <td>False</td>\n",
       "      <td>NaN</td>\n",
       "      <td>N</td>\n",
       "      <td>False</td>\n",
       "      <td>False</td>\n",
       "      <td>False</td>\n",
       "      <td>False</td>\n",
       "      <td>False</td>\n",
       "      <td>False</td>\n",
       "      <td>False</td>\n",
       "    </tr>\n",
       "    <tr>\n",
       "      <th>1</th>\n",
       "      <td>237161</td>\n",
       "      <td>2010-10-10</td>\n",
       "      <td>10:00:00</td>\n",
       "      <td>1122 LEBANON PIKE, NASHVILLE, TN, 37210</td>\n",
       "      <td>36.155521</td>\n",
       "      <td>-86.735902</td>\n",
       "      <td>5.0</td>\n",
       "      <td>9035.0</td>\n",
       "      <td>513.0</td>\n",
       "      <td>18.0</td>\n",
       "      <td>...</td>\n",
       "      <td>True</td>\n",
       "      <td>NaN</td>\n",
       "      <td>N</td>\n",
       "      <td>False</td>\n",
       "      <td>False</td>\n",
       "      <td>False</td>\n",
       "      <td>False</td>\n",
       "      <td>False</td>\n",
       "      <td>False</td>\n",
       "      <td>False</td>\n",
       "    </tr>\n",
       "    <tr>\n",
       "      <th>2</th>\n",
       "      <td>232902</td>\n",
       "      <td>2010-10-10</td>\n",
       "      <td>10:00:00</td>\n",
       "      <td>898 DAVIDSON DR, , TN, 37205</td>\n",
       "      <td>36.117420</td>\n",
       "      <td>-86.895593</td>\n",
       "      <td>1.0</td>\n",
       "      <td>5005.0</td>\n",
       "      <td>121.0</td>\n",
       "      <td>52.0</td>\n",
       "      <td>...</td>\n",
       "      <td>False</td>\n",
       "      <td>NaN</td>\n",
       "      <td>N</td>\n",
       "      <td>False</td>\n",
       "      <td>False</td>\n",
       "      <td>False</td>\n",
       "      <td>False</td>\n",
       "      <td>False</td>\n",
       "      <td>False</td>\n",
       "      <td>False</td>\n",
       "    </tr>\n",
       "    <tr>\n",
       "      <th>3</th>\n",
       "      <td>233219</td>\n",
       "      <td>2010-10-10</td>\n",
       "      <td>22:00:00</td>\n",
       "      <td>MURFREESBORO PIKE &amp; NASHBORO BLVD, ANTIOCH, TN...</td>\n",
       "      <td>36.086799</td>\n",
       "      <td>-86.648581</td>\n",
       "      <td>3.0</td>\n",
       "      <td>8891.0</td>\n",
       "      <td>325.0</td>\n",
       "      <td>25.0</td>\n",
       "      <td>...</td>\n",
       "      <td>False</td>\n",
       "      <td>NaN</td>\n",
       "      <td>N</td>\n",
       "      <td>False</td>\n",
       "      <td>False</td>\n",
       "      <td>False</td>\n",
       "      <td>False</td>\n",
       "      <td>False</td>\n",
       "      <td>False</td>\n",
       "      <td>False</td>\n",
       "    </tr>\n",
       "    <tr>\n",
       "      <th>4</th>\n",
       "      <td>232780</td>\n",
       "      <td>2010-10-10</td>\n",
       "      <td>01:00:00</td>\n",
       "      <td>BUCHANAN ST, NORTH, TN, 37208</td>\n",
       "      <td>36.180038</td>\n",
       "      <td>-86.809109</td>\n",
       "      <td>NaN</td>\n",
       "      <td>NaN</td>\n",
       "      <td>NaN</td>\n",
       "      <td>21.0</td>\n",
       "      <td>...</td>\n",
       "      <td>False</td>\n",
       "      <td>NaN</td>\n",
       "      <td>N</td>\n",
       "      <td>True</td>\n",
       "      <td>True</td>\n",
       "      <td>False</td>\n",
       "      <td>False</td>\n",
       "      <td>False</td>\n",
       "      <td>False</td>\n",
       "      <td>False</td>\n",
       "    </tr>\n",
       "  </tbody>\n",
       "</table>\n",
       "<p>5 rows × 42 columns</p>\n",
       "</div>"
      ],
      "text/plain": [
       "  raw_row_number        date      time  \\\n",
       "0         232947  2010-10-10       NaN   \n",
       "1         237161  2010-10-10  10:00:00   \n",
       "2         232902  2010-10-10  10:00:00   \n",
       "3         233219  2010-10-10  22:00:00   \n",
       "4         232780  2010-10-10  01:00:00   \n",
       "\n",
       "                                            location        lat        lng  \\\n",
       "0  DOMINICAN DR & ROSA L PARKS BLVD, NASHVILLE, T...  36.187925 -86.798519   \n",
       "1            1122 LEBANON PIKE, NASHVILLE, TN, 37210  36.155521 -86.735902   \n",
       "2                       898 DAVIDSON DR, , TN, 37205  36.117420 -86.895593   \n",
       "3  MURFREESBORO PIKE & NASHBORO BLVD, ANTIOCH, TN...  36.086799 -86.648581   \n",
       "4                      BUCHANAN ST, NORTH, TN, 37208  36.180038 -86.809109   \n",
       "\n",
       "  precinct  reporting_area   zone  subject_age  ...  \\\n",
       "0      6.0          4403.0  611.0         27.0  ...   \n",
       "1      5.0          9035.0  513.0         18.0  ...   \n",
       "2      1.0          5005.0  121.0         52.0  ...   \n",
       "3      3.0          8891.0  325.0         25.0  ...   \n",
       "4      NaN             NaN    NaN         21.0  ...   \n",
       "\n",
       "  raw_traffic_citation_issued raw_misd_state_citation_issued  \\\n",
       "0                       False                            NaN   \n",
       "1                        True                            NaN   \n",
       "2                       False                            NaN   \n",
       "3                       False                            NaN   \n",
       "4                       False                            NaN   \n",
       "\n",
       "  raw_suspect_ethnicity raw_driver_searched raw_passenger_searched  \\\n",
       "0                     N               False                  False   \n",
       "1                     N               False                  False   \n",
       "2                     N               False                  False   \n",
       "3                     N               False                  False   \n",
       "4                     N                True                   True   \n",
       "\n",
       "  raw_search_consent raw_search_arrest raw_search_warrant  \\\n",
       "0              False             False              False   \n",
       "1              False             False              False   \n",
       "2              False             False              False   \n",
       "3              False             False              False   \n",
       "4              False             False              False   \n",
       "\n",
       "  raw_search_inventory raw_search_plain_view  \n",
       "0                False                 False  \n",
       "1                False                 False  \n",
       "2                False                 False  \n",
       "3                False                 False  \n",
       "4                False                 False  \n",
       "\n",
       "[5 rows x 42 columns]"
      ]
     },
     "execution_count": 40,
     "metadata": {},
     "output_type": "execute_result"
    }
   ],
   "source": [
    "df.head()"
   ]
  },
  {
   "cell_type": "code",
   "execution_count": 41,
   "metadata": {},
   "outputs": [
    {
     "data": {
      "text/plain": [
       "raw_row_number                          0\n",
       "date                                    0\n",
       "time                                 5458\n",
       "location                                0\n",
       "lat                                185838\n",
       "lng                                185838\n",
       "precinct                           387878\n",
       "reporting_area                     330426\n",
       "zone                               387878\n",
       "subject_age                           561\n",
       "subject_race                         1766\n",
       "subject_sex                             0\n",
       "officer_id_hash                         6\n",
       "type                                    0\n",
       "violation                            7783\n",
       "arrest_made                            28\n",
       "citation_issued                       319\n",
       "warning_issued                        333\n",
       "outcome                               343\n",
       "contraband_found                  2952346\n",
       "contraband_drugs                  2952346\n",
       "contraband_weapons                2952346\n",
       "frisk_performed                        22\n",
       "search_conducted                       38\n",
       "search_person                          42\n",
       "search_vehicle                         40\n",
       "search_basis                      2952346\n",
       "reason_for_stop                      7783\n",
       "vehicle_registration_state          31076\n",
       "notes                             2569944\n",
       "raw_verbal_warning_issued             333\n",
       "raw_written_warning_issued         491965\n",
       "raw_traffic_citation_issued           320\n",
       "raw_misd_state_citation_issued     693550\n",
       "raw_suspect_ethnicity                   1\n",
       "raw_driver_searched                    30\n",
       "raw_passenger_searched                  9\n",
       "raw_search_consent                     21\n",
       "raw_search_arrest                      13\n",
       "raw_search_warrant                      0\n",
       "raw_search_inventory                    2\n",
       "raw_search_plain_view                   7\n",
       "dtype: int64"
      ]
     },
     "execution_count": 41,
     "metadata": {},
     "output_type": "execute_result"
    }
   ],
   "source": [
    "df.isnull().sum()"
   ]
  },
  {
   "cell_type": "code",
   "execution_count": 42,
   "metadata": {},
   "outputs": [
    {
     "data": {
      "text/plain": [
       "<AxesSubplot:>"
      ]
     },
     "execution_count": 42,
     "metadata": {},
     "output_type": "execute_result"
    },
    {
     "data": {
      "image/png": "[encoded data removed]",
      "text/plain": [
       "<Figure size 432x288 with 1 Axes>"
      ]
     },
     "metadata": {
      "needs_background": "light"
     },
     "output_type": "display_data"
    }
   ],
   "source": [
    "sns.heatmap(df.isnull(),yticklabels=False,cbar=False,cmap='viridis')"
   ]
  },
  {
   "cell_type": "code",
   "execution_count": 43,
   "metadata": {},
   "outputs": [
    {
     "name": "stdout",
     "output_type": "stream",
     "text": [
      "contraband_weapons                95.87\n",
      "contraband_found                  95.87\n",
      "search_basis                      95.87\n",
      "contraband_drugs                  95.87\n",
      "notes                             83.45\n",
      "raw_misd_state_citation_issued    22.52\n",
      "raw_written_warning_issued        15.98\n",
      "zone                              12.60\n",
      "precinct                          12.60\n",
      "reporting_area                    10.73\n",
      "lng                                6.03\n",
      "lat                                6.03\n",
      "vehicle_registration_state         1.01\n",
      "reason_for_stop                    0.25\n",
      "violation                          0.25\n",
      "time                               0.18\n",
      "subject_race                       0.06\n",
      "subject_age                        0.02\n",
      "raw_traffic_citation_issued        0.01\n",
      "warning_issued                     0.01\n",
      "outcome                            0.01\n",
      "citation_issued                    0.01\n",
      "raw_verbal_warning_issued          0.01\n",
      "raw_search_inventory               0.00\n",
      "raw_driver_searched                0.00\n",
      "raw_suspect_ethnicity              0.00\n",
      "raw_search_consent                 0.00\n",
      "raw_search_arrest                  0.00\n",
      "raw_search_warrant                 0.00\n",
      "raw_passenger_searched             0.00\n",
      "raw_row_number                     0.00\n",
      "search_vehicle                     0.00\n",
      "search_person                      0.00\n",
      "search_conducted                   0.00\n",
      "frisk_performed                    0.00\n",
      "date                               0.00\n",
      "arrest_made                        0.00\n",
      "type                               0.00\n",
      "officer_id_hash                    0.00\n",
      "subject_sex                        0.00\n",
      "location                           0.00\n",
      "raw_search_plain_view              0.00\n",
      "dtype: float64\n"
     ]
    }
   ],
   "source": [
    "# Check how much % of missing data is present in each column.\n",
    "def missing(data):\n",
    "  print (round((data.isnull().sum() * 100/ len(data)),2).sort_values(ascending=False))\n",
    "missing(df)"
   ]
  },
  {
   "cell_type": "code",
   "execution_count": 44,
   "metadata": {},
   "outputs": [
    {
     "name": "stdout",
     "output_type": "stream",
     "text": [
      "# Columns having more than 80 percent missing values:  5\n",
      "Columns:\n",
      " ['notes', 'contraband_found', 'contraband_drugs', 'contraband_weapons', 'search_basis']\n"
     ]
    }
   ],
   "source": [
    "def rmissingvaluecol(dff, threshold):\n",
    "    l = []\n",
    "    l = list(dff.drop(dff.loc[:,list((100*(dff.isnull().sum()/len(dff.index)) >= threshold))].columns, 1).columns.values) \n",
    "    print(\"# Columns having more than %s percent missing values: \"%threshold, (dff.shape[1] - len(l)))\n",
    "    print(\"Columns:\\n\", list(set(list((dff.columns.values))) - set(l)))\n",
    "    return l\n",
    "\n",
    "# Here threshold is 80% which means we are going to drop \n",
    "# columns having more than 80% of missing data\n",
    "existing_columns = rmissingvaluecol(df,80) "
   ]
  },
  {
   "cell_type": "code",
   "execution_count": 45,
   "metadata": {},
   "outputs": [],
   "source": [
    "policing_df = df[existing_columns]"
   ]
  },
  {
   "cell_type": "code",
   "execution_count": 46,
   "metadata": {},
   "outputs": [
    {
     "data": {
      "text/plain": [
       "(3079529, 37)"
      ]
     },
     "execution_count": 46,
     "metadata": {},
     "output_type": "execute_result"
    }
   ],
   "source": [
    "policing_df.shape"
   ]
  },
  {
   "cell_type": "code",
   "execution_count": 47,
   "metadata": {},
   "outputs": [
    {
     "data": {
      "text/plain": [
       "<AxesSubplot:>"
      ]
     },
     "execution_count": 47,
     "metadata": {},
     "output_type": "execute_result"
    },
    {
     "data": {
      "image/png": "[encoded data removed]",
      "text/plain": [
       "<Figure size 432x288 with 1 Axes>"
      ]
     },
     "metadata": {
      "needs_background": "light"
     },
     "output_type": "display_data"
    }
   ],
   "source": [
    "# Check the amount of missing values in the features.\n",
    "sns.heatmap(policing_df.isnull(),yticklabels=False,cbar=False,cmap='viridis')"
   ]
  },
  {
   "cell_type": "code",
   "execution_count": 48,
   "metadata": {},
   "outputs": [
    {
     "name": "stderr",
     "output_type": "stream",
     "text": [
      "<ipython-input-48-5bb836d5cea5>:1: SettingWithCopyWarning: \n",
      "A value is trying to be set on a copy of a slice from a DataFrame.\n",
      "Try using .loc[row_indexer,col_indexer] = value instead\n",
      "\n",
      "See the caveats in the documentation: https://pandas.pydata.org/pandas-docs/stable/user_guide/indexing.html#returning-a-view-versus-a-copy\n",
      "  policing_df['arrest_made'] = policing_df.arrest_made.astype('bool')\n"
     ]
    }
   ],
   "source": [
    "policing_df['arrest_made'] = policing_df.arrest_made.astype('bool')"
   ]
  },
  {
   "cell_type": "code",
   "execution_count": 51,
   "metadata": {},
   "outputs": [
    {
     "data": {
      "text/plain": [
       "0          2010-10-10\n",
       "1          2010-10-10\n",
       "2          2010-10-10\n",
       "3          2010-10-10\n",
       "4          2010-10-10\n",
       "              ...    \n",
       "3092346    2016-09-09\n",
       "3092347    2016-09-09\n",
       "3092348    2016-09-09\n",
       "3092349    2016-09-09\n",
       "3092350    2016-09-09\n",
       "Name: date, Length: 3079529, dtype: object"
      ]
     },
     "execution_count": 51,
     "metadata": {},
     "output_type": "execute_result"
    }
   ],
   "source": [
    "policing_df.date"
   ]
  },
  {
   "cell_type": "code",
   "execution_count": 54,
   "metadata": {
    "collapsed": true
   },
   "outputs": [
    {
     "name": "stdout",
     "output_type": "stream",
     "text": [
      "datetime64[ns]\n",
      "0                   NaT\n",
      "1   2010-10-10 10:00:00\n",
      "2   2010-10-10 10:00:00\n",
      "3   2010-10-10 22:00:00\n",
      "4   2010-10-10 01:00:00\n",
      "Name: stop_datetime, dtype: datetime64[ns]\n"
     ]
    },
    {
     "name": "stderr",
     "output_type": "stream",
     "text": [
      "<ipython-input-54-1377f6cd3c74>:5: SettingWithCopyWarning: \n",
      "A value is trying to be set on a copy of a slice from a DataFrame.\n",
      "Try using .loc[row_indexer,col_indexer] = value instead\n",
      "\n",
      "See the caveats in the documentation: https://pandas.pydata.org/pandas-docs/stable/user_guide/indexing.html#returning-a-view-versus-a-copy\n",
      "  policing_df['stop_datetime'] = pd.to_datetime(combined)\n"
     ]
    }
   ],
   "source": [
    "# Concatenate 'date' and 'time' (separated by a space)\n",
    "combined = policing_df.date.str.cat(policing_df.time, sep=\" \")\n",
    "\n",
    "# Convert 'combined' to datetime format\n",
    "policing_df['stop_datetime'] = pd.to_datetime(combined)"
   ]
  },
  {
   "cell_type": "code",
   "execution_count": 56,
   "metadata": {
    "collapsed": true
   },
   "outputs": [
    {
     "name": "stdout",
     "output_type": "stream",
     "text": [
      "DatetimeIndex([                'NaT', '2010-10-10 10:00:00',\n",
      "               '2010-10-10 10:00:00', '2010-10-10 22:00:00',\n",
      "               '2010-10-10 01:00:00', '2010-10-10 01:00:00',\n",
      "               '2010-10-10 22:02:00', '2010-10-10 10:04:00',\n",
      "               '2010-10-10 10:05:00', '2010-10-10 10:05:00',\n",
      "               ...\n",
      "               '2016-09-09 09:54:00', '2016-09-09 09:54:00',\n",
      "               '2016-09-09 09:54:00', '2016-09-09 09:54:00',\n",
      "               '2016-09-09 09:54:00', '2016-09-09 21:54:00',\n",
      "               '2016-09-09 21:55:00', '2016-09-09 09:56:00',\n",
      "               '2016-09-09 09:56:00', '2016-09-09 21:57:00'],\n",
      "              dtype='datetime64[ns]', name='stop_datetime', length=3079529, freq=None)\n",
      "Index(['raw_row_number', 'date', 'time', 'location', 'lat', 'lng', 'precinct',\n",
      "       'reporting_area', 'zone', 'subject_age', 'subject_race', 'subject_sex',\n",
      "       'officer_id_hash', 'type', 'violation', 'arrest_made',\n",
      "       'citation_issued', 'warning_issued', 'outcome', 'frisk_performed',\n",
      "       'search_conducted', 'search_person', 'search_vehicle',\n",
      "       'reason_for_stop', 'vehicle_registration_state',\n",
      "       'raw_verbal_warning_issued', 'raw_written_warning_issued',\n",
      "       'raw_traffic_citation_issued', 'raw_misd_state_citation_issued',\n",
      "       'raw_suspect_ethnicity', 'raw_driver_searched',\n",
      "       'raw_passenger_searched', 'raw_search_consent', 'raw_search_arrest',\n",
      "       'raw_search_warrant', 'raw_search_inventory', 'raw_search_plain_view'],\n",
      "      dtype='object')\n"
     ]
    }
   ],
   "source": [
    "# Set 'stop_datetime' as the index\n",
    "policing_df.set_index('stop_datetime', inplace=True)\n",
    "\n",
    "# Examine the index\n",
    "print(policing_df.index)\n",
    "\n",
    "# Examine the columns\n",
    "print(policing_df.columns)"
   ]
  },
  {
   "cell_type": "code",
   "execution_count": 2,
   "metadata": {},
   "outputs": [
    {
     "ename": "NameError",
     "evalue": "name 'policing_df' is not defined",
     "output_type": "error",
     "traceback": [
      "\u001b[0;31m---------------------------------------------------------------------------\u001b[0m",
      "\u001b[0;31mNameError\u001b[0m                                 Traceback (most recent call last)",
      "\u001b[0;32m/tmp/ipykernel_4299/638449633.py\u001b[0m in \u001b[0;36m<module>\u001b[0;34m\u001b[0m\n\u001b[0;32m----> 1\u001b[0;31m \u001b[0mpolicing_df\u001b[0m\u001b[0;34m.\u001b[0m\u001b[0mto_csv\u001b[0m\u001b[0;34m(\u001b[0m\u001b[0;34m\"police.csv\"\u001b[0m\u001b[0;34m)\u001b[0m\u001b[0;34m\u001b[0m\u001b[0;34m\u001b[0m\u001b[0m\n\u001b[0m",
      "\u001b[0;31mNameError\u001b[0m: name 'policing_df' is not defined"
     ]
    }
   ],
   "source": [
    "policing_df.to_csv(\"police.csv\")"
   ]
  },
  {
   "cell_type": "markdown",
   "metadata": {},
   "source": [
    "##### Import Formatted Police Data"
   ]
  },
  {
   "cell_type": "code",
   "execution_count": 3,
   "metadata": {},
   "outputs": [
    {
     "name": "stderr",
     "output_type": "stream",
     "text": [
      "/home/rabajaj/.conda/envs/rpb/lib/python3.8/site-packages/IPython/core/interactiveshell.py:3441: DtypeWarning: Columns (7,9,17,18,20,21,22,23,26,27,28,29,31,32,33,34,36,37) have mixed types.Specify dtype option on import or set low_memory=False.\n",
      "  exec(code_obj, self.user_global_ns, self.user_ns)\n"
     ]
    }
   ],
   "source": [
    "policing_df = pd.read_csv(\"police.csv\")"
   ]
  },
  {
   "cell_type": "code",
   "execution_count": 4,
   "metadata": {},
   "outputs": [
    {
     "data": {
      "text/plain": [
       "Index(['stop_datetime', 'raw_row_number', 'date', 'time', 'location', 'lat',\n",
       "       'lng', 'precinct', 'reporting_area', 'zone', 'subject_age',\n",
       "       'subject_race', 'subject_sex', 'officer_id_hash', 'type', 'violation',\n",
       "       'arrest_made', 'citation_issued', 'warning_issued', 'outcome',\n",
       "       'frisk_performed', 'search_conducted', 'search_person',\n",
       "       'search_vehicle', 'reason_for_stop', 'vehicle_registration_state',\n",
       "       'raw_verbal_warning_issued', 'raw_written_warning_issued',\n",
       "       'raw_traffic_citation_issued', 'raw_misd_state_citation_issued',\n",
       "       'raw_suspect_ethnicity', 'raw_driver_searched',\n",
       "       'raw_passenger_searched', 'raw_search_consent', 'raw_search_arrest',\n",
       "       'raw_search_warrant', 'raw_search_inventory', 'raw_search_plain_view'],\n",
       "      dtype='object')"
      ]
     },
     "execution_count": 4,
     "metadata": {},
     "output_type": "execute_result"
    }
   ],
   "source": [
    "policing_df.columns"
   ]
  },
  {
   "cell_type": "code",
   "execution_count": 5,
   "metadata": {},
   "outputs": [
    {
     "data": {
      "text/plain": [
       "0    3029474\n",
       "1      50055\n",
       "Name: arrest_made, dtype: int64"
      ]
     },
     "execution_count": 5,
     "metadata": {},
     "output_type": "execute_result"
    }
   ],
   "source": [
    "policing_df.arrest_made.astype('int').value_counts()"
   ]
  },
  {
   "cell_type": "markdown",
   "metadata": {},
   "source": [
    "##### Violations Overview"
   ]
  },
  {
   "cell_type": "code",
   "execution_count": 13,
   "metadata": {},
   "outputs": [],
   "source": [
    "outcomes = policing_df.outcome.value_counts(normalize=True).to_frame()"
   ]
  },
  {
   "cell_type": "code",
   "execution_count": 14,
   "metadata": {},
   "outputs": [],
   "source": [
    "outcomes['Outcome Distribution (%)'] = outcomes['outcome']\n",
    "outcomes['Outcomes'] = outcomes.index"
   ]
  },
  {
   "cell_type": "code",
   "execution_count": 15,
   "metadata": {},
   "outputs": [
    {
     "data": {
      "text/html": [
       "<div>\n",
       "<style scoped>\n",
       "    .dataframe tbody tr th:only-of-type {\n",
       "        vertical-align: middle;\n",
       "    }\n",
       "\n",
       "    .dataframe tbody tr th {\n",
       "        vertical-align: top;\n",
       "    }\n",
       "\n",
       "    .dataframe thead th {\n",
       "        text-align: right;\n",
       "    }\n",
       "</style>\n",
       "<table border=\"1\" class=\"dataframe\">\n",
       "  <thead>\n",
       "    <tr style=\"text-align: right;\">\n",
       "      <th></th>\n",
       "      <th>outcome</th>\n",
       "      <th>Outcome Distribution (%)</th>\n",
       "      <th>Outcomes</th>\n",
       "    </tr>\n",
       "  </thead>\n",
       "  <tbody>\n",
       "    <tr>\n",
       "      <th>warning</th>\n",
       "      <td>0.763092</td>\n",
       "      <td>0.763092</td>\n",
       "      <td>warning</td>\n",
       "    </tr>\n",
       "    <tr>\n",
       "      <th>citation</th>\n",
       "      <td>0.220662</td>\n",
       "      <td>0.220662</td>\n",
       "      <td>citation</td>\n",
       "    </tr>\n",
       "    <tr>\n",
       "      <th>arrest</th>\n",
       "      <td>0.016247</td>\n",
       "      <td>0.016247</td>\n",
       "      <td>arrest</td>\n",
       "    </tr>\n",
       "  </tbody>\n",
       "</table>\n",
       "</div>"
      ],
      "text/plain": [
       "           outcome  Outcome Distribution (%)  Outcomes\n",
       "warning   0.763092                  0.763092   warning\n",
       "citation  0.220662                  0.220662  citation\n",
       "arrest    0.016247                  0.016247    arrest"
      ]
     },
     "execution_count": 15,
     "metadata": {},
     "output_type": "execute_result"
    }
   ],
   "source": [
    "outcomes"
   ]
  },
  {
   "cell_type": "code",
   "execution_count": 16,
   "metadata": {},
   "outputs": [
    {
     "data": {
      "image/png": "[encoded data removed]",
      "text/plain": [
       "<Figure size 432x288 with 1 Axes>"
      ]
     },
     "metadata": {
      "needs_background": "light"
     },
     "output_type": "display_data"
    }
   ],
   "source": [
    "sns.barplot(x=\"Outcomes\", y=\"Outcome Distribution (%)\", data=outcomes, palette=\"ch:s=.25,rot=-.25\")\n",
    "#plt.savefig('outcome.pdf', dpi = 2000)"
   ]
  },
  {
   "cell_type": "code",
   "execution_count": 17,
   "metadata": {},
   "outputs": [
    {
     "data": {
      "text/plain": [
       "(3079529, 38)"
      ]
     },
     "execution_count": 17,
     "metadata": {},
     "output_type": "execute_result"
    }
   ],
   "source": [
    "policing_df.shape"
   ]
  },
  {
   "cell_type": "markdown",
   "metadata": {},
   "source": [
    "##### Police Actions across Races"
   ]
  },
  {
   "cell_type": "code",
   "execution_count": 18,
   "metadata": {},
   "outputs": [
    {
     "data": {
      "text/plain": [
       "white                     1665088\n",
       "black                     1161890\n",
       "hispanic                   164258\n",
       "asian/pacific islander      41518\n",
       "unknown                     34624\n",
       "other                       10385\n",
       "Name: subject_race, dtype: int64"
      ]
     },
     "execution_count": 18,
     "metadata": {},
     "output_type": "execute_result"
    }
   ],
   "source": [
    "policing_df.subject_race.value_counts()"
   ]
  },
  {
   "cell_type": "code",
   "execution_count": 19,
   "metadata": {},
   "outputs": [],
   "source": [
    "white = policing_df[policing_df['subject_race'] == \"white\"]\n",
    "black = policing_df[policing_df['subject_race'] == \"black\"]\n",
    "hispanic = policing_df[policing_df['subject_race'] == \"hispanic\"]\n",
    "asian = policing_df[policing_df['subject_race'] == \"asian/pacific islander\"]"
   ]
  },
  {
   "cell_type": "code",
   "execution_count": 20,
   "metadata": {},
   "outputs": [
    {
     "data": {
      "text/plain": [
       "(1665088, 38)"
      ]
     },
     "execution_count": 20,
     "metadata": {},
     "output_type": "execute_result"
    }
   ],
   "source": [
    "white.shape"
   ]
  },
  {
   "cell_type": "code",
   "execution_count": 21,
   "metadata": {},
   "outputs": [],
   "source": [
    "white_outcome = white.outcome.value_counts(normalize=True).to_frame()\n",
    "white_outcome[\"race\"] = \"white\"\n",
    "black_outcome = black.outcome.value_counts(normalize=True).to_frame()\n",
    "black_outcome[\"race\"] = \"black\"\n",
    "hispanic_outcome = hispanic.outcome.value_counts(normalize=True).to_frame()\n",
    "hispanic_outcome[\"race\"] = \"hispanic\"\n",
    "asian_outcome = asian.outcome.value_counts(normalize=True).to_frame()\n",
    "asian_outcome[\"race\"] = \"asian\""
   ]
  },
  {
   "cell_type": "code",
   "execution_count": 22,
   "metadata": {},
   "outputs": [],
   "source": [
    "frames = [white_outcome, black_outcome, hispanic_outcome, asian_outcome]\n",
    "race_result = pd.concat(frames)"
   ]
  },
  {
   "cell_type": "code",
   "execution_count": 23,
   "metadata": {},
   "outputs": [],
   "source": [
    "race_result['action'] = race_result.index"
   ]
  },
  {
   "cell_type": "code",
   "execution_count": 24,
   "metadata": {},
   "outputs": [
    {
     "name": "stdout",
     "output_type": "stream",
     "text": [
      "outcome    float64\n",
      "race        object\n",
      "action      object\n",
      "dtype: object\n",
      "           outcome      race    action\n",
      "warning   0.768988     white   warning\n",
      "citation  0.220151     white  citation\n",
      "arrest    0.010861     white    arrest\n",
      "warning   0.775102     black   warning\n",
      "citation  0.202323     black  citation\n",
      "arrest    0.022575     black    arrest\n",
      "warning   0.625963  hispanic   warning\n",
      "citation  0.342914  hispanic  citation\n",
      "arrest    0.031123  hispanic    arrest\n",
      "warning   0.801021     asian   warning\n",
      "citation  0.191825     asian  citation\n",
      "arrest    0.007154     asian    arrest\n"
     ]
    }
   ],
   "source": [
    "race_result.outcome = race_result.outcome.astype('float')\n",
    "print(race_result.dtypes)\n",
    "print(race_result)"
   ]
  },
  {
   "cell_type": "code",
   "execution_count": 25,
   "metadata": {},
   "outputs": [],
   "source": [
    "race_result[\"Race\"] = race_result[\"race\"]\n",
    "race_result[\"Percentage (%)\"] = race_result[\"outcome\"]\n",
    "race_result[\"Police Action\"] = race_result[\"action\"]"
   ]
  },
  {
   "cell_type": "code",
   "execution_count": 26,
   "metadata": {},
   "outputs": [
    {
     "data": {
      "image/png": "[encoded data removed]",
      "text/plain": [
       "<Figure size 432x288 with 1 Axes>"
      ]
     },
     "metadata": {
      "needs_background": "light"
     },
     "output_type": "display_data"
    }
   ],
   "source": [
    "sns.barplot(x=\"Police Action\", y=\"Percentage (%)\", hue=\"Race\", data=race_result, palette=\"ch:s=.25,rot=-.25\")\n",
    "#plt.savefig('race.pdf', dpi = 2000)"
   ]
  },
  {
   "cell_type": "code",
   "execution_count": 27,
   "metadata": {},
   "outputs": [],
   "source": [
    "violations = policing_df.violation.value_counts(normalize=True).to_frame()"
   ]
  },
  {
   "cell_type": "code",
   "execution_count": 28,
   "metadata": {},
   "outputs": [],
   "source": [
    "violations[\"Violation Type\"] = violations.index\n",
    "violations[\"Percentage (%)\"] = violations[\"violation\"]"
   ]
  },
  {
   "cell_type": "code",
   "execution_count": 29,
   "metadata": {},
   "outputs": [
    {
     "data": {
      "text/html": [
       "<div>\n",
       "<style scoped>\n",
       "    .dataframe tbody tr th:only-of-type {\n",
       "        vertical-align: middle;\n",
       "    }\n",
       "\n",
       "    .dataframe tbody tr th {\n",
       "        vertical-align: top;\n",
       "    }\n",
       "\n",
       "    .dataframe thead th {\n",
       "        text-align: right;\n",
       "    }\n",
       "</style>\n",
       "<table border=\"1\" class=\"dataframe\">\n",
       "  <thead>\n",
       "    <tr style=\"text-align: right;\">\n",
       "      <th></th>\n",
       "      <th>violation</th>\n",
       "      <th>Violation Type</th>\n",
       "      <th>Percentage (%)</th>\n",
       "    </tr>\n",
       "  </thead>\n",
       "  <tbody>\n",
       "    <tr>\n",
       "      <th>moving traffic violation</th>\n",
       "      <td>0.501639</td>\n",
       "      <td>moving traffic violation</td>\n",
       "      <td>0.501639</td>\n",
       "    </tr>\n",
       "    <tr>\n",
       "      <th>vehicle equipment violation</th>\n",
       "      <td>0.323211</td>\n",
       "      <td>vehicle equipment violation</td>\n",
       "      <td>0.323211</td>\n",
       "    </tr>\n",
       "    <tr>\n",
       "      <th>safety violation</th>\n",
       "      <td>0.060293</td>\n",
       "      <td>safety violation</td>\n",
       "      <td>0.060293</td>\n",
       "    </tr>\n",
       "    <tr>\n",
       "      <th>registration</th>\n",
       "      <td>0.060207</td>\n",
       "      <td>registration</td>\n",
       "      <td>0.060207</td>\n",
       "    </tr>\n",
       "    <tr>\n",
       "      <th>seatbelt violation</th>\n",
       "      <td>0.033482</td>\n",
       "      <td>seatbelt violation</td>\n",
       "      <td>0.033482</td>\n",
       "    </tr>\n",
       "    <tr>\n",
       "      <th>investigative stop</th>\n",
       "      <td>0.018282</td>\n",
       "      <td>investigative stop</td>\n",
       "      <td>0.018282</td>\n",
       "    </tr>\n",
       "    <tr>\n",
       "      <th>parking violation</th>\n",
       "      <td>0.002523</td>\n",
       "      <td>parking violation</td>\n",
       "      <td>0.002523</td>\n",
       "    </tr>\n",
       "    <tr>\n",
       "      <th>child restraint</th>\n",
       "      <td>0.000363</td>\n",
       "      <td>child restraint</td>\n",
       "      <td>0.000363</td>\n",
       "    </tr>\n",
       "  </tbody>\n",
       "</table>\n",
       "</div>"
      ],
      "text/plain": [
       "                             violation               Violation Type  \\\n",
       "moving traffic violation      0.501639     moving traffic violation   \n",
       "vehicle equipment violation   0.323211  vehicle equipment violation   \n",
       "safety violation              0.060293             safety violation   \n",
       "registration                  0.060207                 registration   \n",
       "seatbelt violation            0.033482           seatbelt violation   \n",
       "investigative stop            0.018282           investigative stop   \n",
       "parking violation             0.002523            parking violation   \n",
       "child restraint               0.000363              child restraint   \n",
       "\n",
       "                             Percentage (%)  \n",
       "moving traffic violation           0.501639  \n",
       "vehicle equipment violation        0.323211  \n",
       "safety violation                   0.060293  \n",
       "registration                       0.060207  \n",
       "seatbelt violation                 0.033482  \n",
       "investigative stop                 0.018282  \n",
       "parking violation                  0.002523  \n",
       "child restraint                    0.000363  "
      ]
     },
     "execution_count": 29,
     "metadata": {},
     "output_type": "execute_result"
    }
   ],
   "source": [
    "violations"
   ]
  },
  {
   "cell_type": "code",
   "execution_count": 30,
   "metadata": {},
   "outputs": [
    {
     "data": {
      "image/png": "[encoded data removed]",
      "text/plain": [
       "<Figure size 432x288 with 1 Axes>"
      ]
     },
     "metadata": {
      "needs_background": "light"
     },
     "output_type": "display_data"
    }
   ],
   "source": [
    "import matplotlib.pyplot as plt\n",
    "plt.rcParams.update({'font.size': 12})\n",
    "sns.barplot(x=\"Violation Type\", y=\"Percentage (%)\", data=violations, palette=\"ch:s=.25,rot=-.25\")\n",
    "plt.xticks(rotation=90)\n",
    "plt.tight_layout()\n",
    "#plt.savefig('violations.pdf', dpi = 2000)"
   ]
  },
  {
   "cell_type": "markdown",
   "metadata": {},
   "source": [
    "##### Analysis based on Gender"
   ]
  },
  {
   "cell_type": "code",
   "execution_count": 31,
   "metadata": {},
   "outputs": [],
   "source": [
    "male = policing_df[policing_df.subject_sex == \"male\"]\n",
    "female = policing_df[policing_df.subject_sex == \"female\"]"
   ]
  },
  {
   "cell_type": "code",
   "execution_count": 32,
   "metadata": {},
   "outputs": [],
   "source": [
    "male_violations = male.violation.value_counts(normalize=True).to_frame()\n",
    "female_violations = female.violation.value_counts(normalize=True).to_frame()"
   ]
  },
  {
   "cell_type": "code",
   "execution_count": 33,
   "metadata": {},
   "outputs": [],
   "source": [
    "male_violations[\"Violation Type\"] = male_violations.index\n",
    "female_violations[\"Violation Type\"] = female_violations.index"
   ]
  },
  {
   "cell_type": "code",
   "execution_count": 34,
   "metadata": {},
   "outputs": [],
   "source": [
    "female_violations[\"Percentage (%)\"] = female_violations[\"violation\"]\n",
    "female_violations[\"Gender\"] = \"Female\"\n",
    "male_violations[\"Percentage (%)\"] = male_violations[\"violation\"]\n",
    "male_violations[\"Gender\"] = \"Male\""
   ]
  },
  {
   "cell_type": "code",
   "execution_count": 35,
   "metadata": {},
   "outputs": [],
   "source": [
    "gender_frames = [female_violations, male_violations]\n",
    "gender_result = pd.concat(gender_frames)"
   ]
  },
  {
   "cell_type": "code",
   "execution_count": 36,
   "metadata": {},
   "outputs": [
    {
     "data": {
      "text/html": [
       "<div>\n",
       "<style scoped>\n",
       "    .dataframe tbody tr th:only-of-type {\n",
       "        vertical-align: middle;\n",
       "    }\n",
       "\n",
       "    .dataframe tbody tr th {\n",
       "        vertical-align: top;\n",
       "    }\n",
       "\n",
       "    .dataframe thead th {\n",
       "        text-align: right;\n",
       "    }\n",
       "</style>\n",
       "<table border=\"1\" class=\"dataframe\">\n",
       "  <thead>\n",
       "    <tr style=\"text-align: right;\">\n",
       "      <th></th>\n",
       "      <th>violation</th>\n",
       "      <th>Violation Type</th>\n",
       "      <th>Percentage (%)</th>\n",
       "      <th>Gender</th>\n",
       "    </tr>\n",
       "  </thead>\n",
       "  <tbody>\n",
       "    <tr>\n",
       "      <th>moving traffic violation</th>\n",
       "      <td>0.506626</td>\n",
       "      <td>moving traffic violation</td>\n",
       "      <td>0.506626</td>\n",
       "      <td>Female</td>\n",
       "    </tr>\n",
       "    <tr>\n",
       "      <th>vehicle equipment violation</th>\n",
       "      <td>0.326046</td>\n",
       "      <td>vehicle equipment violation</td>\n",
       "      <td>0.326046</td>\n",
       "      <td>Female</td>\n",
       "    </tr>\n",
       "    <tr>\n",
       "      <th>registration</th>\n",
       "      <td>0.061622</td>\n",
       "      <td>registration</td>\n",
       "      <td>0.061622</td>\n",
       "      <td>Female</td>\n",
       "    </tr>\n",
       "    <tr>\n",
       "      <th>safety violation</th>\n",
       "      <td>0.060160</td>\n",
       "      <td>safety violation</td>\n",
       "      <td>0.060160</td>\n",
       "      <td>Female</td>\n",
       "    </tr>\n",
       "    <tr>\n",
       "      <th>seatbelt violation</th>\n",
       "      <td>0.027144</td>\n",
       "      <td>seatbelt violation</td>\n",
       "      <td>0.027144</td>\n",
       "      <td>Female</td>\n",
       "    </tr>\n",
       "    <tr>\n",
       "      <th>investigative stop</th>\n",
       "      <td>0.015427</td>\n",
       "      <td>investigative stop</td>\n",
       "      <td>0.015427</td>\n",
       "      <td>Female</td>\n",
       "    </tr>\n",
       "    <tr>\n",
       "      <th>parking violation</th>\n",
       "      <td>0.002395</td>\n",
       "      <td>parking violation</td>\n",
       "      <td>0.002395</td>\n",
       "      <td>Female</td>\n",
       "    </tr>\n",
       "    <tr>\n",
       "      <th>child restraint</th>\n",
       "      <td>0.000580</td>\n",
       "      <td>child restraint</td>\n",
       "      <td>0.000580</td>\n",
       "      <td>Female</td>\n",
       "    </tr>\n",
       "    <tr>\n",
       "      <th>moving traffic violation</th>\n",
       "      <td>0.498219</td>\n",
       "      <td>moving traffic violation</td>\n",
       "      <td>0.498219</td>\n",
       "      <td>Male</td>\n",
       "    </tr>\n",
       "    <tr>\n",
       "      <th>vehicle equipment violation</th>\n",
       "      <td>0.321266</td>\n",
       "      <td>vehicle equipment violation</td>\n",
       "      <td>0.321266</td>\n",
       "      <td>Male</td>\n",
       "    </tr>\n",
       "    <tr>\n",
       "      <th>safety violation</th>\n",
       "      <td>0.060384</td>\n",
       "      <td>safety violation</td>\n",
       "      <td>0.060384</td>\n",
       "      <td>Male</td>\n",
       "    </tr>\n",
       "    <tr>\n",
       "      <th>registration</th>\n",
       "      <td>0.059238</td>\n",
       "      <td>registration</td>\n",
       "      <td>0.059238</td>\n",
       "      <td>Male</td>\n",
       "    </tr>\n",
       "    <tr>\n",
       "      <th>seatbelt violation</th>\n",
       "      <td>0.037828</td>\n",
       "      <td>seatbelt violation</td>\n",
       "      <td>0.037828</td>\n",
       "      <td>Male</td>\n",
       "    </tr>\n",
       "    <tr>\n",
       "      <th>investigative stop</th>\n",
       "      <td>0.020240</td>\n",
       "      <td>investigative stop</td>\n",
       "      <td>0.020240</td>\n",
       "      <td>Male</td>\n",
       "    </tr>\n",
       "    <tr>\n",
       "      <th>parking violation</th>\n",
       "      <td>0.002610</td>\n",
       "      <td>parking violation</td>\n",
       "      <td>0.002610</td>\n",
       "      <td>Male</td>\n",
       "    </tr>\n",
       "    <tr>\n",
       "      <th>child restraint</th>\n",
       "      <td>0.000214</td>\n",
       "      <td>child restraint</td>\n",
       "      <td>0.000214</td>\n",
       "      <td>Male</td>\n",
       "    </tr>\n",
       "  </tbody>\n",
       "</table>\n",
       "</div>"
      ],
      "text/plain": [
       "                             violation               Violation Type  \\\n",
       "moving traffic violation      0.506626     moving traffic violation   \n",
       "vehicle equipment violation   0.326046  vehicle equipment violation   \n",
       "registration                  0.061622                 registration   \n",
       "safety violation              0.060160             safety violation   \n",
       "seatbelt violation            0.027144           seatbelt violation   \n",
       "investigative stop            0.015427           investigative stop   \n",
       "parking violation             0.002395            parking violation   \n",
       "child restraint               0.000580              child restraint   \n",
       "moving traffic violation      0.498219     moving traffic violation   \n",
       "vehicle equipment violation   0.321266  vehicle equipment violation   \n",
       "safety violation              0.060384             safety violation   \n",
       "registration                  0.059238                 registration   \n",
       "seatbelt violation            0.037828           seatbelt violation   \n",
       "investigative stop            0.020240           investigative stop   \n",
       "parking violation             0.002610            parking violation   \n",
       "child restraint               0.000214              child restraint   \n",
       "\n",
       "                             Percentage (%)  Gender  \n",
       "moving traffic violation           0.506626  Female  \n",
       "vehicle equipment violation        0.326046  Female  \n",
       "registration                       0.061622  Female  \n",
       "safety violation                   0.060160  Female  \n",
       "seatbelt violation                 0.027144  Female  \n",
       "investigative stop                 0.015427  Female  \n",
       "parking violation                  0.002395  Female  \n",
       "child restraint                    0.000580  Female  \n",
       "moving traffic violation           0.498219    Male  \n",
       "vehicle equipment violation        0.321266    Male  \n",
       "safety violation                   0.060384    Male  \n",
       "registration                       0.059238    Male  \n",
       "seatbelt violation                 0.037828    Male  \n",
       "investigative stop                 0.020240    Male  \n",
       "parking violation                  0.002610    Male  \n",
       "child restraint                    0.000214    Male  "
      ]
     },
     "execution_count": 36,
     "metadata": {},
     "output_type": "execute_result"
    }
   ],
   "source": [
    "gender_result"
   ]
  },
  {
   "cell_type": "code",
   "execution_count": 37,
   "metadata": {},
   "outputs": [
    {
     "data": {
      "image/png": "[encoded data removed]",
      "text/plain": [
       "<Figure size 432x288 with 1 Axes>"
      ]
     },
     "metadata": {
      "needs_background": "light"
     },
     "output_type": "display_data"
    }
   ],
   "source": [
    "import matplotlib.pyplot as plt\n",
    "plt.rcParams.update({'font.size': 12})\n",
    "sns.barplot(x=\"Violation Type\", y=\"Percentage (%)\", hue=\"Gender\", data=gender_result, palette=\"ch:s=.25,rot=-.25\")\n",
    "plt.xticks(rotation=90)\n",
    "plt.tight_layout()\n",
    "#plt.savefig('gender_violations.pdf', dpi = 2000)"
   ]
  },
  {
   "cell_type": "markdown",
   "metadata": {},
   "source": [
    "### Does gender affect who would get frisked?"
   ]
  },
  {
   "cell_type": "code",
   "execution_count": 11,
   "metadata": {},
   "outputs": [
    {
     "name": "stdout",
     "output_type": "stream",
     "text": [
      "0.4837512482406687\n"
     ]
    },
    {
     "data": {
      "image/png": "[encoded data removed]",
      "text/plain": [
       "<Figure size 432x288 with 1 Axes>"
      ]
     },
     "metadata": {
      "needs_background": "light"
     },
     "output_type": "display_data"
    }
   ],
   "source": [
    "# Create a DataFrame of stops in which a search was conducted\n",
    "searched = policing_df[policing_df.search_conducted == True]\n",
    "\n",
    "# Calculate the overall frisk rate by taking the mean of 'frisk'\n",
    "print(searched.frisk_performed.mean())\n",
    "\n",
    "# Calculate the frisk rate for each gender\n",
    "searched.groupby('subject_sex').frisk_performed.mean().plot(kind='barh')"
   ]
  },
  {
   "cell_type": "code",
   "execution_count": 17,
   "metadata": {},
   "outputs": [
    {
     "data": {
      "text/plain": [
       "Index(['stop_datetime', 'raw_row_number', 'date', 'time', 'location', 'lat',\n",
       "       'lng', 'precinct', 'reporting_area', 'zone', 'subject_age',\n",
       "       'subject_race', 'subject_sex', 'officer_id_hash', 'type', 'violation',\n",
       "       'arrest_made', 'citation_issued', 'warning_issued', 'outcome',\n",
       "       'frisk_performed', 'search_conducted', 'search_person',\n",
       "       'search_vehicle', 'reason_for_stop', 'vehicle_registration_state',\n",
       "       'raw_verbal_warning_issued', 'raw_written_warning_issued',\n",
       "       'raw_traffic_citation_issued', 'raw_misd_state_citation_issued',\n",
       "       'raw_suspect_ethnicity', 'raw_driver_searched',\n",
       "       'raw_passenger_searched', 'raw_search_consent', 'raw_search_arrest',\n",
       "       'raw_search_warrant', 'raw_search_inventory', 'raw_search_plain_view'],\n",
       "      dtype='object')"
      ]
     },
     "execution_count": 17,
     "metadata": {},
     "output_type": "execute_result"
    }
   ],
   "source": [
    "policing_df.columns"
   ]
  },
  {
   "cell_type": "markdown",
   "metadata": {},
   "source": [
    "### Does Gender affect who gets a speeding ticket?"
   ]
  },
  {
   "cell_type": "code",
   "execution_count": 58,
   "metadata": {},
   "outputs": [],
   "source": [
    "# Create a DataFrame of female drivers stopped for speeding\n",
    "female_and_speeding = policing_df[(policing_df.subject_sex == 'female') & (policing_df.violation == 'moving traffic violation')] \n",
    "\n",
    "# Create a DataFrame of male drivers stopped for speeding\n",
    "male_and_speeding = policing_df[(policing_df.subject_sex == 'male') & (policing_df.violation == 'moving traffic violation')] \n",
    "\n",
    "# Compute the stop outcomes for female drivers (as proportions)\n",
    "Female_Speeding = female_and_speeding.outcome.value_counts(normalize=True).to_frame()\n",
    "\n",
    "# Compute t`he stop outcomes for male drivers (as proportions)\n",
    "Male_Speeding = male_and_speeding.outcome.value_counts(normalize=True).to_frame()"
   ]
  },
  {
   "cell_type": "code",
   "execution_count": 74,
   "metadata": {},
   "outputs": [],
   "source": [
    "Female_Speeding[\"Speeding Outcome\"] = Female_Speeding.index\n",
    "Male_Speeding[\"Speeding Outcome\"] = Male_Speeding.index"
   ]
  },
  {
   "cell_type": "code",
   "execution_count": 75,
   "metadata": {},
   "outputs": [],
   "source": [
    "Female_Speeding[\"Percentage (%)\"] = Female_Speeding[\"outcome\"]\n",
    "Male_Speeding[\"Percentage (%)\"] = Male_Speeding[\"outcome\"]"
   ]
  },
  {
   "cell_type": "code",
   "execution_count": 76,
   "metadata": {},
   "outputs": [],
   "source": [
    "Female_Speeding['Gender'] = 'Female'\n",
    "Male_Speeding['Gender'] = 'Male'"
   ]
  },
  {
   "cell_type": "code",
   "execution_count": 77,
   "metadata": {},
   "outputs": [],
   "source": [
    "gender_frames = [Female_Speeding, Male_Speeding]\n",
    "gender_result = pd.concat(gender_frames)"
   ]
  },
  {
   "cell_type": "code",
   "execution_count": 78,
   "metadata": {},
   "outputs": [
    {
     "data": {
      "text/html": [
       "<div>\n",
       "<style scoped>\n",
       "    .dataframe tbody tr th:only-of-type {\n",
       "        vertical-align: middle;\n",
       "    }\n",
       "\n",
       "    .dataframe tbody tr th {\n",
       "        vertical-align: top;\n",
       "    }\n",
       "\n",
       "    .dataframe thead th {\n",
       "        text-align: right;\n",
       "    }\n",
       "</style>\n",
       "<table border=\"1\" class=\"dataframe\">\n",
       "  <thead>\n",
       "    <tr style=\"text-align: right;\">\n",
       "      <th></th>\n",
       "      <th>outcome</th>\n",
       "      <th>Percentage (%)</th>\n",
       "      <th>Gender</th>\n",
       "      <th>Outcome</th>\n",
       "      <th>Speeding Outcome</th>\n",
       "    </tr>\n",
       "  </thead>\n",
       "  <tbody>\n",
       "    <tr>\n",
       "      <th>warning</th>\n",
       "      <td>0.685880</td>\n",
       "      <td>0.685880</td>\n",
       "      <td>Female</td>\n",
       "      <td>warning</td>\n",
       "      <td>warning</td>\n",
       "    </tr>\n",
       "    <tr>\n",
       "      <th>citation</th>\n",
       "      <td>0.304782</td>\n",
       "      <td>0.304782</td>\n",
       "      <td>Female</td>\n",
       "      <td>citation</td>\n",
       "      <td>citation</td>\n",
       "    </tr>\n",
       "    <tr>\n",
       "      <th>arrest</th>\n",
       "      <td>0.009339</td>\n",
       "      <td>0.009339</td>\n",
       "      <td>Female</td>\n",
       "      <td>arrest</td>\n",
       "      <td>arrest</td>\n",
       "    </tr>\n",
       "    <tr>\n",
       "      <th>warning</th>\n",
       "      <td>0.671205</td>\n",
       "      <td>0.671205</td>\n",
       "      <td>Male</td>\n",
       "      <td>warning</td>\n",
       "      <td>warning</td>\n",
       "    </tr>\n",
       "    <tr>\n",
       "      <th>citation</th>\n",
       "      <td>0.310279</td>\n",
       "      <td>0.310279</td>\n",
       "      <td>Male</td>\n",
       "      <td>citation</td>\n",
       "      <td>citation</td>\n",
       "    </tr>\n",
       "    <tr>\n",
       "      <th>arrest</th>\n",
       "      <td>0.018516</td>\n",
       "      <td>0.018516</td>\n",
       "      <td>Male</td>\n",
       "      <td>arrest</td>\n",
       "      <td>arrest</td>\n",
       "    </tr>\n",
       "  </tbody>\n",
       "</table>\n",
       "</div>"
      ],
      "text/plain": [
       "           outcome  Percentage (%)  Gender   Outcome Speeding Outcome\n",
       "warning   0.685880        0.685880  Female   warning          warning\n",
       "citation  0.304782        0.304782  Female  citation         citation\n",
       "arrest    0.009339        0.009339  Female    arrest           arrest\n",
       "warning   0.671205        0.671205    Male   warning          warning\n",
       "citation  0.310279        0.310279    Male  citation         citation\n",
       "arrest    0.018516        0.018516    Male    arrest           arrest"
      ]
     },
     "execution_count": 78,
     "metadata": {},
     "output_type": "execute_result"
    }
   ],
   "source": [
    "gender_result"
   ]
  },
  {
   "cell_type": "code",
   "execution_count": 80,
   "metadata": {},
   "outputs": [
    {
     "data": {
      "image/png": "[encoded data removed]",
      "text/plain": [
       "<Figure size 432x288 with 1 Axes>"
      ]
     },
     "metadata": {
      "needs_background": "light"
     },
     "output_type": "display_data"
    }
   ],
   "source": [
    "import matplotlib.pyplot as plt\n",
    "plt.rcParams.update({'font.size': 12})\n",
    "sns.barplot(x=\"Speeding Outcome\", y=\"Percentage (%)\", hue=\"Gender\", data=gender_result, palette=\"ch:s=.25,rot=-.25\")\n",
    "# plt.xticks(rotation=90)\n",
    "plt.tight_layout()\n",
    "plt.savefig('speeding_outcome_gender.pdf', dpi = 2000)"
   ]
  },
  {
   "cell_type": "markdown",
   "metadata": {},
   "source": [
    "### Does gender affect whose vehicle is searched?"
   ]
  },
  {
   "cell_type": "code",
   "execution_count": 82,
   "metadata": {
    "scrolled": true
   },
   "outputs": [
    {
     "data": {
      "text/plain": [
       "Index(['stop_datetime', 'raw_row_number', 'date', 'time', 'location', 'lat',\n",
       "       'lng', 'precinct', 'reporting_area', 'zone', 'subject_age',\n",
       "       'subject_race', 'subject_sex', 'officer_id_hash', 'type', 'violation',\n",
       "       'arrest_made', 'citation_issued', 'warning_issued', 'outcome',\n",
       "       'frisk_performed', 'search_conducted', 'search_person',\n",
       "       'search_vehicle', 'reason_for_stop', 'vehicle_registration_state',\n",
       "       'raw_verbal_warning_issued', 'raw_written_warning_issued',\n",
       "       'raw_traffic_citation_issued', 'raw_misd_state_citation_issued',\n",
       "       'raw_suspect_ethnicity', 'raw_driver_searched',\n",
       "       'raw_passenger_searched', 'raw_search_consent', 'raw_search_arrest',\n",
       "       'raw_search_warrant', 'raw_search_inventory', 'raw_search_plain_view'],\n",
       "      dtype='object')"
      ]
     },
     "execution_count": 82,
     "metadata": {},
     "output_type": "execute_result"
    }
   ],
   "source": [
    "policing_df.columns"
   ]
  },
  {
   "cell_type": "code",
   "execution_count": 76,
   "metadata": {},
   "outputs": [
    {
     "data": {
      "text/plain": [
       "violation                    subject_sex\n",
       "child restraint              female         0.030345\n",
       "                             male           0.071795\n",
       "investigative stop           female         0.094319\n",
       "                             male           0.184111\n",
       "moving traffic violation     female         0.019689\n",
       "                             male           0.046677\n",
       "parking violation            female         0.024733\n",
       "                             male           0.047719\n",
       "registration                 female         0.025768\n",
       "                             male           0.055277\n",
       "safety violation             female         0.023334\n",
       "                             male           0.048620\n",
       "seatbelt violation           female         0.031903\n",
       "                             male           0.060277\n",
       "vehicle equipment violation  female         0.024817\n",
       "                             male           0.055152\n",
       "Name: search_conducted, dtype: float64"
      ]
     },
     "execution_count": 76,
     "metadata": {},
     "output_type": "execute_result"
    }
   ],
   "source": [
    "policing_df.groupby(['violation', 'subject_sex']).search_conducted.mean()"
   ]
  },
  {
   "cell_type": "markdown",
   "metadata": {},
   "source": [
    "### Effect of time on arrests"
   ]
  },
  {
   "cell_type": "code",
   "execution_count": 30,
   "metadata": {
    "scrolled": true
   },
   "outputs": [
    {
     "data": {
      "text/plain": [
       "Index(['stop_datetime', 'raw_row_number', 'date', 'time', 'location', 'lat',\n",
       "       'lng', 'precinct', 'reporting_area', 'zone', 'subject_age',\n",
       "       'subject_race', 'subject_sex', 'officer_id_hash', 'type', 'violation',\n",
       "       'arrest_made', 'citation_issued', 'warning_issued', 'outcome',\n",
       "       'frisk_performed', 'search_conducted', 'search_person',\n",
       "       'search_vehicle', 'reason_for_stop', 'vehicle_registration_state',\n",
       "       'raw_verbal_warning_issued', 'raw_written_warning_issued',\n",
       "       'raw_traffic_citation_issued', 'raw_misd_state_citation_issued',\n",
       "       'raw_suspect_ethnicity', 'raw_driver_searched',\n",
       "       'raw_passenger_searched', 'raw_search_consent', 'raw_search_arrest',\n",
       "       'raw_search_warrant', 'raw_search_inventory', 'raw_search_plain_view'],\n",
       "      dtype='object')"
      ]
     },
     "execution_count": 30,
     "metadata": {},
     "output_type": "execute_result"
    }
   ],
   "source": [
    "policing_df.columns\n"
   ]
  },
  {
   "cell_type": "code",
   "execution_count": 31,
   "metadata": {},
   "outputs": [],
   "source": [
    "policing_df['stop_datetime'] = pd.to_datetime(policing_df['stop_datetime'])"
   ]
  },
  {
   "cell_type": "code",
   "execution_count": 34,
   "metadata": {},
   "outputs": [],
   "source": [
    "policing_df.set_index('stop_datetime', inplace=True)"
   ]
  },
  {
   "cell_type": "code",
   "execution_count": 35,
   "metadata": {},
   "outputs": [
    {
     "name": "stdout",
     "output_type": "stream",
     "text": [
      "0.016254108988744707\n",
      "stop_datetime\n",
      "0.0     0.024296\n",
      "1.0     0.036689\n",
      "2.0     0.044858\n",
      "3.0     0.044957\n",
      "4.0     0.036431\n",
      "5.0     0.019485\n",
      "6.0     0.022529\n",
      "7.0     0.006948\n",
      "8.0     0.006715\n",
      "9.0     0.008084\n",
      "10.0    0.008824\n",
      "11.0    0.010824\n",
      "12.0    0.009865\n",
      "13.0    0.011064\n",
      "14.0    0.014807\n",
      "15.0    0.009831\n",
      "16.0    0.011320\n",
      "17.0    0.013759\n",
      "18.0    0.014532\n",
      "19.0    0.013743\n",
      "20.0    0.015317\n",
      "21.0    0.017862\n",
      "22.0    0.022141\n",
      "23.0    0.018623\n",
      "Name: arrest_made, dtype: float64\n"
     ]
    }
   ],
   "source": [
    "# Calculate the overall arrest rate\n",
    "print(policing_df.arrest_made.mean())\n",
    "\n",
    "# Calculate the hourly arrest rate\n",
    "print(policing_df.groupby(policing_df.index.hour).arrest_made.mean())\n",
    "\n",
    "# Save the hourly arrest rate\n",
    "hourly_arrest_rate = policing_df.groupby(policing_df.index.hour).arrest_made.mean()"
   ]
  },
  {
   "cell_type": "code",
   "execution_count": 38,
   "metadata": {},
   "outputs": [
    {
     "data": {
      "image/png": "[encoded data removed]",
      "text/plain": [
       "<Figure size 432x288 with 1 Axes>"
      ]
     },
     "metadata": {
      "needs_background": "light"
     },
     "output_type": "display_data"
    }
   ],
   "source": [
    "import matplotlib.pyplot as plt\n",
    "plt.rcParams.update({'font.size': 12})\n",
    "\n",
    "# Create a line plot of 'hourly_arrest_rate'\n",
    "hourly_arrest_rate.plot()\n",
    "\n",
    "# Add the xlabel, ylabel, and title\n",
    "plt.xlabel('Hour')\n",
    "plt.ylabel('Arrest Rate')\n",
    "plt.title('Arrest Rate by Time of Day')\n",
    "\n",
    "# Display the plot\n",
    "plt.tight_layout()\n",
    "plt.savefig('timeofarrest.pdf', dpi = 2000)\n",
    "plt.show()"
   ]
  },
  {
   "cell_type": "markdown",
   "metadata": {},
   "source": [
    "### Effect of drugs and search on policing"
   ]
  },
  {
   "cell_type": "code",
   "execution_count": 48,
   "metadata": {
    "scrolled": true
   },
   "outputs": [
    {
     "data": {
      "text/plain": [
       "Index(['raw_row_number', 'date', 'time', 'location', 'lat', 'lng', 'precinct',\n",
       "       'reporting_area', 'zone', 'subject_age', 'subject_race', 'subject_sex',\n",
       "       'officer_id_hash', 'type', 'violation', 'arrest_made',\n",
       "       'citation_issued', 'warning_issued', 'outcome', 'contraband_found',\n",
       "       'contraband_drugs', 'contraband_weapons', 'frisk_performed',\n",
       "       'search_conducted', 'search_person', 'search_vehicle', 'search_basis',\n",
       "       'reason_for_stop', 'vehicle_registration_state', 'notes',\n",
       "       'raw_verbal_warning_issued', 'raw_written_warning_issued',\n",
       "       'raw_traffic_citation_issued', 'raw_misd_state_citation_issued',\n",
       "       'raw_suspect_ethnicity', 'raw_driver_searched',\n",
       "       'raw_passenger_searched', 'raw_search_consent', 'raw_search_arrest',\n",
       "       'raw_search_warrant', 'raw_search_inventory', 'raw_search_plain_view'],\n",
       "      dtype='object')"
      ]
     },
     "execution_count": 48,
     "metadata": {},
     "output_type": "execute_result"
    }
   ],
   "source": [
    "df.columns"
   ]
  },
  {
   "cell_type": "code",
   "execution_count": 60,
   "metadata": {},
   "outputs": [
    {
     "data": {
      "text/plain": [
       "consent           67629\n",
       "other             25620\n",
       "plain view        18443\n",
       "probable cause    16013\n",
       "Name: search_basis, dtype: int64"
      ]
     },
     "execution_count": 60,
     "metadata": {},
     "output_type": "execute_result"
    }
   ],
   "source": [
    "df.search_basis.value_counts()"
   ]
  },
  {
   "cell_type": "code",
   "execution_count": 51,
   "metadata": {},
   "outputs": [],
   "source": [
    "# Concatenate 'date' and 'time' (separated by a space)\n",
    "combined = df.date.str.cat(df.time, sep=\" \")\n",
    "\n",
    "# Convert 'combined' to datetime format\n",
    "df['stop_datetime'] = pd.to_datetime(combined)\n",
    "df.set_index('stop_datetime', inplace=True)"
   ]
  },
  {
   "cell_type": "code",
   "execution_count": 58,
   "metadata": {},
   "outputs": [
    {
     "data": {
      "text/plain": [
       "(3092351,)"
      ]
     },
     "execution_count": 58,
     "metadata": {},
     "output_type": "execute_result"
    }
   ],
   "source": [
    "df.contraband_drugs.shape"
   ]
  },
  {
   "cell_type": "code",
   "execution_count": 69,
   "metadata": {},
   "outputs": [],
   "source": [
    "annual_drug_rate = df.groupby(df.index.year).contraband_drugs.mean()"
   ]
  },
  {
   "cell_type": "code",
   "execution_count": 101,
   "metadata": {},
   "outputs": [
    {
     "data": {
      "image/png": "[encoded data removed]",
      "text/plain": [
       "<Figure size 432x288 with 1 Axes>"
      ]
     },
     "metadata": {
      "needs_background": "light"
     },
     "output_type": "display_data"
    }
   ],
   "source": [
    "df.groupby(df.index.year).contraband_drugs.mean().plot()\n",
    "plt.tight_layout()\n",
    "plt.savefig('Drug related stops.pdf', dpi = 2000)\n",
    "plt.show()"
   ]
  },
  {
   "cell_type": "code",
   "execution_count": 71,
   "metadata": {},
   "outputs": [],
   "source": [
    "annual_search_rate = df.groupby(df.index.year).search_conducted.mean()"
   ]
  },
  {
   "cell_type": "code",
   "execution_count": 72,
   "metadata": {},
   "outputs": [],
   "source": [
    "annual = pd.concat([annual_drug_rate, annual_search_rate], axis='columns')"
   ]
  },
  {
   "cell_type": "code",
   "execution_count": 74,
   "metadata": {},
   "outputs": [
    {
     "data": {
      "image/png": "[encoded data removed]",
      "text/plain": [
       "<Figure size 432x288 with 2 Axes>"
      ]
     },
     "metadata": {
      "needs_background": "light"
     },
     "output_type": "display_data"
    }
   ],
   "source": [
    "import matplotlib.pyplot as plt\n",
    "plt.rcParams.update({'font.size': 14})\n",
    "\n",
    "# Create a line plot of 'hourly_arrest_rate'\n",
    "annual.plot(subplots=True)\n",
    "\n",
    "# # Add the xlabel, ylabel, and title\n",
    "# plt.xlabel('Year')\n",
    "# plt.ylabel('Drugs Found')\n",
    "# plt.title('Annual Drug Rate')\n",
    "\n",
    "# Display the plot\n",
    "plt.tight_layout()\n",
    "plt.savefig('Comparing drug and search rates.pdf', dpi = 2000)\n",
    "plt.show()"
   ]
  },
  {
   "cell_type": "code",
   "execution_count": 81,
   "metadata": {},
   "outputs": [
    {
     "data": {
      "text/plain": [
       "stop_datetime\n",
       "NaT                                               NaN\n",
       "2010-10-10 10:00:00                               NaN\n",
       "2010-10-10 10:00:00                               NaN\n",
       "2010-10-10 22:00:00                               NaN\n",
       "2010-10-10 01:00:00                               NaN\n",
       "                                    ...              \n",
       "2016-09-09 21:54:00                               NaN\n",
       "2016-09-09 21:55:00                               NaN\n",
       "2016-09-09 09:56:00                     RAN STOP SIGN\n",
       "2016-09-09 09:56:00                               NaN\n",
       "2016-09-09 21:57:00    CITED FOR NOT HAVING INSURANCE\n",
       "Name: notes, Length: 3092351, dtype: object"
      ]
     },
     "execution_count": 81,
     "metadata": {},
     "output_type": "execute_result"
    }
   ],
   "source": [
    "df.notes"
   ]
  },
  {
   "cell_type": "markdown",
   "metadata": {},
   "source": [
    "##### Search Conducted"
   ]
  },
  {
   "cell_type": "code",
   "execution_count": 58,
   "metadata": {},
   "outputs": [
    {
     "data": {
      "text/plain": [
       "0.04130000704661907"
      ]
     },
     "execution_count": 58,
     "metadata": {},
     "output_type": "execute_result"
    }
   ],
   "source": [
    "policing_df.search_conducted.mean()"
   ]
  },
  {
   "cell_type": "code",
   "execution_count": 61,
   "metadata": {},
   "outputs": [
    {
     "data": {
      "text/plain": [
       "subject_sex\n",
       "female    0.023516\n",
       "male      0.053492\n",
       "Name: search_conducted, dtype: float64"
      ]
     },
     "execution_count": 61,
     "metadata": {},
     "output_type": "execute_result"
    }
   ],
   "source": [
    "# we found that male driver are searched more than twice as ofter as \n",
    "# female drivers.\n",
    "policing_df.groupby('subject_sex').search_conducted.mean()"
   ]
  },
  {
   "cell_type": "code",
   "execution_count": 62,
   "metadata": {},
   "outputs": [
    {
     "data": {
      "text/plain": [
       "violation                    subject_sex\n",
       "child restraint              female         0.030345\n",
       "                             male           0.071795\n",
       "investigative stop           female         0.094319\n",
       "                             male           0.184111\n",
       "moving traffic violation     female         0.019689\n",
       "                             male           0.046677\n",
       "parking violation            female         0.024733\n",
       "                             male           0.047719\n",
       "registration                 female         0.025768\n",
       "                             male           0.055277\n",
       "safety violation             female         0.023334\n",
       "                             male           0.048620\n",
       "seatbelt violation           female         0.031903\n",
       "                             male           0.060277\n",
       "vehicle equipment violation  female         0.024817\n",
       "                             male           0.055152\n",
       "Name: search_conducted, dtype: float64"
      ]
     },
     "execution_count": 62,
     "metadata": {},
     "output_type": "execute_result"
    }
   ],
   "source": [
    "# After adding violations to the groupby() operation\n",
    "policing_df.groupby(['violation', 'subject_sex']).search_conducted.mean()"
   ]
  },
  {
   "cell_type": "code",
   "execution_count": 63,
   "metadata": {
    "scrolled": true
   },
   "outputs": [
    {
     "data": {
      "text/plain": [
       "violation                    subject_sex\n",
       "child restraint              female         0.030345\n",
       "                             male           0.071795\n",
       "investigative stop           female         0.094319\n",
       "                             male           0.184111\n",
       "moving traffic violation     female         0.019689\n",
       "                             male           0.046677\n",
       "parking violation            female         0.024733\n",
       "                             male           0.047719\n",
       "registration                 female         0.025768\n",
       "                             male           0.055277\n",
       "safety violation             female         0.023334\n",
       "                             male           0.048620\n",
       "seatbelt violation           female         0.031903\n",
       "                             male           0.060277\n",
       "vehicle equipment violation  female         0.024817\n",
       "                             male           0.055152\n",
       "Name: search_conducted, dtype: float64"
      ]
     },
     "execution_count": 63,
     "metadata": {},
     "output_type": "execute_result"
    }
   ],
   "source": [
    "search_rate = policing_df.groupby(['violation', 'subject_sex']).search_conducted.mean()\n",
    "search_rate"
   ]
  },
  {
   "cell_type": "code",
   "execution_count": 65,
   "metadata": {},
   "outputs": [
    {
     "data": {
      "text/html": [
       "<div>\n",
       "<style scoped>\n",
       "    .dataframe tbody tr th:only-of-type {\n",
       "        vertical-align: middle;\n",
       "    }\n",
       "\n",
       "    .dataframe tbody tr th {\n",
       "        vertical-align: top;\n",
       "    }\n",
       "\n",
       "    .dataframe thead th {\n",
       "        text-align: right;\n",
       "    }\n",
       "</style>\n",
       "<table border=\"1\" class=\"dataframe\">\n",
       "  <thead>\n",
       "    <tr style=\"text-align: right;\">\n",
       "      <th>subject_sex</th>\n",
       "      <th>female</th>\n",
       "      <th>male</th>\n",
       "    </tr>\n",
       "    <tr>\n",
       "      <th>violation</th>\n",
       "      <th></th>\n",
       "      <th></th>\n",
       "    </tr>\n",
       "  </thead>\n",
       "  <tbody>\n",
       "    <tr>\n",
       "      <th>child restraint</th>\n",
       "      <td>0.030345</td>\n",
       "      <td>0.071795</td>\n",
       "    </tr>\n",
       "    <tr>\n",
       "      <th>investigative stop</th>\n",
       "      <td>0.094319</td>\n",
       "      <td>0.184111</td>\n",
       "    </tr>\n",
       "    <tr>\n",
       "      <th>moving traffic violation</th>\n",
       "      <td>0.019689</td>\n",
       "      <td>0.046677</td>\n",
       "    </tr>\n",
       "    <tr>\n",
       "      <th>parking violation</th>\n",
       "      <td>0.024733</td>\n",
       "      <td>0.047719</td>\n",
       "    </tr>\n",
       "    <tr>\n",
       "      <th>registration</th>\n",
       "      <td>0.025768</td>\n",
       "      <td>0.055277</td>\n",
       "    </tr>\n",
       "    <tr>\n",
       "      <th>safety violation</th>\n",
       "      <td>0.023334</td>\n",
       "      <td>0.048620</td>\n",
       "    </tr>\n",
       "    <tr>\n",
       "      <th>seatbelt violation</th>\n",
       "      <td>0.031903</td>\n",
       "      <td>0.060277</td>\n",
       "    </tr>\n",
       "    <tr>\n",
       "      <th>vehicle equipment violation</th>\n",
       "      <td>0.024817</td>\n",
       "      <td>0.055152</td>\n",
       "    </tr>\n",
       "  </tbody>\n",
       "</table>\n",
       "</div>"
      ],
      "text/plain": [
       "subject_sex                    female      male\n",
       "violation                                      \n",
       "child restraint              0.030345  0.071795\n",
       "investigative stop           0.094319  0.184111\n",
       "moving traffic violation     0.019689  0.046677\n",
       "parking violation            0.024733  0.047719\n",
       "registration                 0.025768  0.055277\n",
       "safety violation             0.023334  0.048620\n",
       "seatbelt violation           0.031903  0.060277\n",
       "vehicle equipment violation  0.024817  0.055152"
      ]
     },
     "execution_count": 65,
     "metadata": {},
     "output_type": "execute_result"
    }
   ],
   "source": [
    "policing_df.pivot_table(index='violation', columns='subject_sex', values='search_conducted')"
   ]
  },
  {
   "cell_type": "markdown",
   "metadata": {},
   "source": [
    "Our hypothesis was that search rate varies by violation type, and the difference in search rate between males and females is perhaps because they tend to commit different violations. The resukts disapprove the hypothesis since seach rate is higher for males across all violations."
   ]
  },
  {
   "cell_type": "markdown",
   "metadata": {},
   "source": [
    "##### Analysis based on Weather Data"
   ]
  },
  {
   "cell_type": "code",
   "execution_count": 82,
   "metadata": {},
   "outputs": [
    {
     "name": "stderr",
     "output_type": "stream",
     "text": [
      "/home/rabajaj/.conda/envs/rpb/lib/python3.8/site-packages/IPython/core/interactiveshell.py:3441: DtypeWarning: Columns (7,9,17,18,20,21,22,23,26,27,28,29,31,32,33,34,36,37) have mixed types.Specify dtype option on import or set low_memory=False.\n",
      "  exec(code_obj, self.user_global_ns, self.user_ns)\n"
     ]
    }
   ],
   "source": [
    "policing_df = pd.read_csv(\"police.csv\")"
   ]
  },
  {
   "cell_type": "code",
   "execution_count": 83,
   "metadata": {},
   "outputs": [
    {
     "data": {
      "text/plain": [
       "(3079529, 38)"
      ]
     },
     "execution_count": 83,
     "metadata": {},
     "output_type": "execute_result"
    }
   ],
   "source": [
    "policing_df.shape"
   ]
  },
  {
   "cell_type": "code",
   "execution_count": 84,
   "metadata": {},
   "outputs": [],
   "source": [
    "weather_df = pd.read_csv('weather.csv')"
   ]
  },
  {
   "cell_type": "code",
   "execution_count": 85,
   "metadata": {},
   "outputs": [
    {
     "data": {
      "text/plain": [
       "(8112, 40)"
      ]
     },
     "execution_count": 85,
     "metadata": {},
     "output_type": "execute_result"
    }
   ],
   "source": [
    "weather_df.shape"
   ]
  },
  {
   "cell_type": "code",
   "execution_count": 86,
   "metadata": {},
   "outputs": [
    {
     "data": {
      "text/plain": [
       "Index(['STATION', 'NAME', 'DATE', 'AWND', 'FMTM', 'PGTM', 'PRCP', 'PSUN',\n",
       "       'SNOW', 'SNWD', 'TAVG', 'TMAX', 'TMIN', 'TSUN', 'WDF2', 'WDF5', 'WESD',\n",
       "       'WSF2', 'WSF5', 'WT01', 'WT02', 'WT03', 'WT04', 'WT05', 'WT06', 'WT07',\n",
       "       'WT08', 'WT09', 'WT10', 'WT11', 'WT13', 'WT14', 'WT15', 'WT16', 'WT17',\n",
       "       'WT18', 'WT19', 'WT21', 'WT22', 'WV03'],\n",
       "      dtype='object')"
      ]
     },
     "execution_count": 86,
     "metadata": {},
     "output_type": "execute_result"
    }
   ],
   "source": [
    "weather_df.columns"
   ]
  },
  {
   "cell_type": "code",
   "execution_count": 90,
   "metadata": {},
   "outputs": [
    {
     "data": {
      "image/png": "[encoded data removed]",
      "text/plain": [
       "<Figure size 432x288 with 1 Axes>"
      ]
     },
     "metadata": {
      "needs_background": "light"
     },
     "output_type": "display_data"
    }
   ],
   "source": [
    "# check if the data is trust-worthy by checking: \n",
    "# max > avg && avg > min\n",
    "weather_df[[\"TMIN\", \"TAVG\", \"TMAX\"]].plot(kind='box')\n",
    "\n",
    "# plt.tight_layout()\n",
    "plt.savefig('temp.pdf', dpi = 2000)\n",
    "# plt.show()"
   ]
  },
  {
   "cell_type": "code",
   "execution_count": 94,
   "metadata": {},
   "outputs": [
    {
     "data": {
      "image/png": "[encoded data removed]",
      "text/plain": [
       "<Figure size 432x288 with 1 Axes>"
      ]
     },
     "metadata": {
      "needs_background": "light"
     },
     "output_type": "display_data"
    }
   ],
   "source": [
    "weather_df[['AWND', 'WSF2']].plot(kind='box')\n",
    "plt.savefig('wind.pdf', dpi = 2000)"
   ]
  },
  {
   "cell_type": "code",
   "execution_count": 8,
   "metadata": {},
   "outputs": [
    {
     "name": "stdout",
     "output_type": "stream",
     "text": [
      "count    8111.000000\n",
      "mean       11.489323\n",
      "std         4.107508\n",
      "min         1.100000\n",
      "25%         8.800000\n",
      "50%        11.600000\n",
      "75%        13.900000\n",
      "max        27.700000\n",
      "Name: TDIFF, dtype: float64\n"
     ]
    },
    {
     "data": {
      "image/png": "[encoded data removed]",
      "text/plain": [
       "<Figure size 432x288 with 1 Axes>"
      ]
     },
     "metadata": {
      "needs_background": "light"
     },
     "output_type": "display_data"
    }
   ],
   "source": [
    "# assess whether the dataset seems trustworthy by plotting \n",
    "# the difference between the maximum and minimum temperatures.\n",
    "\n",
    "# Create a 'TDIFF' column that represents temperature difference\n",
    "weather_df['TDIFF'] = weather_df['TMAX'] - weather_df[\"TMIN\"]\n",
    "\n",
    "# Describe the 'TDIFF' column\n",
    "print(weather_df['TDIFF'].describe())\n",
    "\n",
    "# Create a histogram with 20 bins to visualize 'TDIFF'\n",
    "weather_df['TDIFF'].plot(kind='hist', bins=20)\n",
    "\n",
    "# Display the plot\n",
    "plt.show()"
   ]
  },
  {
   "cell_type": "code",
   "execution_count": 96,
   "metadata": {},
   "outputs": [
    {
     "data": {
      "image/png": "[encoded data removed]",
      "text/plain": [
       "<Figure size 432x288 with 1 Axes>"
      ]
     },
     "metadata": {
      "needs_background": "light"
     },
     "output_type": "display_data"
    }
   ],
   "source": [
    "# Counting bad weather conditions\n",
    "# The weather DataFrame contains 20 columns that start with 'WT',\n",
    "# each of which represents a bad weather condition. For example:\n",
    "\n",
    "#    WT05 indicates \"Hail\"\n",
    "#    WT11 indicates \"High or damaging winds\"\n",
    "#    WT17 indicates \"Freezing rain\"\n",
    "\n",
    "# For every row in the dataset, each WT column contains either a 1\n",
    "# (meaning the condition was present that day) or NaN (meaning the condition was not present).\n",
    "\n",
    "# In this exercise, you'll quantify \"how bad\" the weather was each\n",
    "# day by counting the number of 1 values in each row.\n",
    "\n",
    "# Copy 'WT01' through 'WT22' to a new DataFrame\n",
    "WT = weather_df.loc[:, 'WT01':'WT22']\n",
    "\n",
    "# Calculate the sum of each row in 'WT'\n",
    "weather_df['bad_conditions'] = WT.sum(axis='columns')\n",
    "\n",
    "# Replace missing values in 'bad_conditions' with '0'\n",
    "weather_df['bad_conditions'] = weather_df.bad_conditions.fillna(0).astype('int')\n",
    "\n",
    "# Create a histogram to visualize 'bad_conditions'\n",
    "#weather_df['bad_conditions'].plot(kind='hist')\n",
    "\n",
    "sns.histplot(x=\"bad_conditions\", data=weather_df, binwidth=1, palette=\"ch:s=.25,rot=-.25\")\n",
    "plt.tight_layout()\n",
    "plt.savefig('weather-conditions.pdf', dpi = 2000)\n",
    "\n",
    "\n",
    "# Display the plot\n",
    "plt.show()"
   ]
  },
  {
   "cell_type": "code",
   "execution_count": 13,
   "metadata": {},
   "outputs": [
    {
     "name": "stdout",
     "output_type": "stream",
     "text": [
      "0     3321\n",
      "1     1575\n",
      "2     1108\n",
      "3      996\n",
      "4      679\n",
      "5      324\n",
      "6       85\n",
      "7       21\n",
      "8        2\n",
      "10       1\n",
      "Name: bad_conditions, dtype: int64\n",
      "bad      4358\n",
      "good     3321\n",
      "worse     432\n",
      "Name: rating, dtype: int64\n"
     ]
    }
   ],
   "source": [
    "# The counts range from 0 to 9, and should be converted to ratings as follows:\n",
    "\n",
    "#     Convert 0 to 'good'\n",
    "#     Convert 1 through 4 to 'bad'\n",
    "#     Convert 5 through 9 to 'worse'\n",
    "\n",
    "# Count the unique values in 'bad_conditions' and sort the index\n",
    "print(weather_df.bad_conditions.value_counts().sort_index())\n",
    "\n",
    "# Create a dictionary that maps integers to strings\n",
    "mapping = {0:'good', 1:'bad', 2:'bad', 3:'bad', 4:'bad', 5:'worse', 6:'worse', 7:'worse', 8:'worse', 9:'worse'}\n",
    "\n",
    "# Convert the 'bad_conditions' integers to strings using the 'mapping'\n",
    "weather_df['rating'] = weather_df.bad_conditions.map(mapping)\n",
    "\n",
    "# Count the unique values in 'rating'\n",
    "print(weather_df.rating.value_counts())"
   ]
  },
  {
   "cell_type": "code",
   "execution_count": 19,
   "metadata": {},
   "outputs": [],
   "source": [
    "ratings = weather_df.rating.value_counts().to_frame()"
   ]
  },
  {
   "cell_type": "code",
   "execution_count": 20,
   "metadata": {},
   "outputs": [],
   "source": [
    "ratings['Frequency'] = ratings['rating']\n",
    "ratings['Rating'] = ratings.index"
   ]
  },
  {
   "cell_type": "code",
   "execution_count": 35,
   "metadata": {},
   "outputs": [
    {
     "data": {
      "image/png": "[encoded data removed]",
      "text/plain": [
       "<Figure size 432x288 with 1 Axes>"
      ]
     },
     "metadata": {
      "needs_background": "light"
     },
     "output_type": "display_data"
    }
   ],
   "source": [
    "sns.barplot(x=\"Rating\", y=\"Frequency\", data=ratings, palette=\"ch:s=.25,rot=-.25\")\n",
    "#plt.savefig('rating.pdf', dpi = 2000)"
   ]
  },
  {
   "cell_type": "code",
   "execution_count": 43,
   "metadata": {},
   "outputs": [
    {
     "name": "stdout",
     "output_type": "stream",
     "text": [
      "0      bad\n",
      "1      bad\n",
      "2      bad\n",
      "3    worse\n",
      "4     good\n",
      "Name: rating, dtype: category\n",
      "Categories (3, object): ['bad', 'good', 'worse']\n"
     ]
    }
   ],
   "source": [
    "# Since the rating column only has a few possible values, \n",
    "# you'll change its data type to category in order to store the data more efficiently.\n",
    "# You'll also specify a logical order for the categories, which will be useful for future exercises.\n",
    "\n",
    "# Create a list of weather ratings in logical order\n",
    "#cats = ['good', 'bad', 'worse']\n",
    "\n",
    "# Change the data type of 'rating' to category\n",
    "weather_df['rating'] = weather_df.rating.astype(\"category\")\n",
    "\n",
    "# Examine the head of 'rating'\n",
    "print(weather_df.rating.head())"
   ]
  },
  {
   "cell_type": "code",
   "execution_count": 50,
   "metadata": {},
   "outputs": [
    {
     "data": {
      "text/html": [
       "<div>\n",
       "<style scoped>\n",
       "    .dataframe tbody tr th:only-of-type {\n",
       "        vertical-align: middle;\n",
       "    }\n",
       "\n",
       "    .dataframe tbody tr th {\n",
       "        vertical-align: top;\n",
       "    }\n",
       "\n",
       "    .dataframe thead th {\n",
       "        text-align: right;\n",
       "    }\n",
       "</style>\n",
       "<table border=\"1\" class=\"dataframe\">\n",
       "  <thead>\n",
       "    <tr style=\"text-align: right;\">\n",
       "      <th></th>\n",
       "      <th>stop_datetime</th>\n",
       "      <th>raw_row_number</th>\n",
       "      <th>date</th>\n",
       "      <th>time</th>\n",
       "      <th>location</th>\n",
       "      <th>lat</th>\n",
       "      <th>lng</th>\n",
       "      <th>precinct</th>\n",
       "      <th>reporting_area</th>\n",
       "      <th>zone</th>\n",
       "      <th>...</th>\n",
       "      <th>raw_traffic_citation_issued</th>\n",
       "      <th>raw_misd_state_citation_issued</th>\n",
       "      <th>raw_suspect_ethnicity</th>\n",
       "      <th>raw_driver_searched</th>\n",
       "      <th>raw_passenger_searched</th>\n",
       "      <th>raw_search_consent</th>\n",
       "      <th>raw_search_arrest</th>\n",
       "      <th>raw_search_warrant</th>\n",
       "      <th>raw_search_inventory</th>\n",
       "      <th>raw_search_plain_view</th>\n",
       "    </tr>\n",
       "  </thead>\n",
       "  <tbody>\n",
       "    <tr>\n",
       "      <th>0</th>\n",
       "      <td>NaN</td>\n",
       "      <td>232947</td>\n",
       "      <td>2010-10-10</td>\n",
       "      <td>NaN</td>\n",
       "      <td>DOMINICAN DR &amp; ROSA L PARKS BLVD, NASHVILLE, T...</td>\n",
       "      <td>36.187925</td>\n",
       "      <td>-86.798519</td>\n",
       "      <td>6.0</td>\n",
       "      <td>4403.0</td>\n",
       "      <td>611.0</td>\n",
       "      <td>...</td>\n",
       "      <td>False</td>\n",
       "      <td>NaN</td>\n",
       "      <td>N</td>\n",
       "      <td>False</td>\n",
       "      <td>False</td>\n",
       "      <td>False</td>\n",
       "      <td>False</td>\n",
       "      <td>False</td>\n",
       "      <td>False</td>\n",
       "      <td>False</td>\n",
       "    </tr>\n",
       "    <tr>\n",
       "      <th>1</th>\n",
       "      <td>2010-10-10 10:00:00</td>\n",
       "      <td>237161</td>\n",
       "      <td>2010-10-10</td>\n",
       "      <td>10:00:00</td>\n",
       "      <td>1122 LEBANON PIKE, NASHVILLE, TN, 37210</td>\n",
       "      <td>36.155521</td>\n",
       "      <td>-86.735902</td>\n",
       "      <td>5.0</td>\n",
       "      <td>9035.0</td>\n",
       "      <td>513.0</td>\n",
       "      <td>...</td>\n",
       "      <td>True</td>\n",
       "      <td>NaN</td>\n",
       "      <td>N</td>\n",
       "      <td>False</td>\n",
       "      <td>False</td>\n",
       "      <td>False</td>\n",
       "      <td>False</td>\n",
       "      <td>False</td>\n",
       "      <td>False</td>\n",
       "      <td>False</td>\n",
       "    </tr>\n",
       "    <tr>\n",
       "      <th>2</th>\n",
       "      <td>2010-10-10 10:00:00</td>\n",
       "      <td>232902</td>\n",
       "      <td>2010-10-10</td>\n",
       "      <td>10:00:00</td>\n",
       "      <td>898 DAVIDSON DR, , TN, 37205</td>\n",
       "      <td>36.117420</td>\n",
       "      <td>-86.895593</td>\n",
       "      <td>1.0</td>\n",
       "      <td>5005.0</td>\n",
       "      <td>121.0</td>\n",
       "      <td>...</td>\n",
       "      <td>False</td>\n",
       "      <td>NaN</td>\n",
       "      <td>N</td>\n",
       "      <td>False</td>\n",
       "      <td>False</td>\n",
       "      <td>False</td>\n",
       "      <td>False</td>\n",
       "      <td>False</td>\n",
       "      <td>False</td>\n",
       "      <td>False</td>\n",
       "    </tr>\n",
       "    <tr>\n",
       "      <th>3</th>\n",
       "      <td>2010-10-10 22:00:00</td>\n",
       "      <td>233219</td>\n",
       "      <td>2010-10-10</td>\n",
       "      <td>22:00:00</td>\n",
       "      <td>MURFREESBORO PIKE &amp; NASHBORO BLVD, ANTIOCH, TN...</td>\n",
       "      <td>36.086799</td>\n",
       "      <td>-86.648581</td>\n",
       "      <td>3.0</td>\n",
       "      <td>8891.0</td>\n",
       "      <td>325.0</td>\n",
       "      <td>...</td>\n",
       "      <td>False</td>\n",
       "      <td>NaN</td>\n",
       "      <td>N</td>\n",
       "      <td>False</td>\n",
       "      <td>False</td>\n",
       "      <td>False</td>\n",
       "      <td>False</td>\n",
       "      <td>False</td>\n",
       "      <td>False</td>\n",
       "      <td>False</td>\n",
       "    </tr>\n",
       "    <tr>\n",
       "      <th>4</th>\n",
       "      <td>2010-10-10 01:00:00</td>\n",
       "      <td>232780</td>\n",
       "      <td>2010-10-10</td>\n",
       "      <td>01:00:00</td>\n",
       "      <td>BUCHANAN ST, NORTH, TN, 37208</td>\n",
       "      <td>36.180038</td>\n",
       "      <td>-86.809109</td>\n",
       "      <td>NaN</td>\n",
       "      <td>NaN</td>\n",
       "      <td>NaN</td>\n",
       "      <td>...</td>\n",
       "      <td>False</td>\n",
       "      <td>NaN</td>\n",
       "      <td>N</td>\n",
       "      <td>True</td>\n",
       "      <td>True</td>\n",
       "      <td>False</td>\n",
       "      <td>False</td>\n",
       "      <td>False</td>\n",
       "      <td>False</td>\n",
       "      <td>False</td>\n",
       "    </tr>\n",
       "  </tbody>\n",
       "</table>\n",
       "<p>5 rows × 38 columns</p>\n",
       "</div>"
      ],
      "text/plain": [
       "         stop_datetime raw_row_number        date      time  \\\n",
       "0                  NaN         232947  2010-10-10       NaN   \n",
       "1  2010-10-10 10:00:00         237161  2010-10-10  10:00:00   \n",
       "2  2010-10-10 10:00:00         232902  2010-10-10  10:00:00   \n",
       "3  2010-10-10 22:00:00         233219  2010-10-10  22:00:00   \n",
       "4  2010-10-10 01:00:00         232780  2010-10-10  01:00:00   \n",
       "\n",
       "                                            location        lat        lng  \\\n",
       "0  DOMINICAN DR & ROSA L PARKS BLVD, NASHVILLE, T...  36.187925 -86.798519   \n",
       "1            1122 LEBANON PIKE, NASHVILLE, TN, 37210  36.155521 -86.735902   \n",
       "2                       898 DAVIDSON DR, , TN, 37205  36.117420 -86.895593   \n",
       "3  MURFREESBORO PIKE & NASHBORO BLVD, ANTIOCH, TN...  36.086799 -86.648581   \n",
       "4                      BUCHANAN ST, NORTH, TN, 37208  36.180038 -86.809109   \n",
       "\n",
       "  precinct  reporting_area   zone  ...  raw_traffic_citation_issued  \\\n",
       "0      6.0          4403.0  611.0  ...                        False   \n",
       "1      5.0          9035.0  513.0  ...                         True   \n",
       "2      1.0          5005.0  121.0  ...                        False   \n",
       "3      3.0          8891.0  325.0  ...                        False   \n",
       "4      NaN             NaN    NaN  ...                        False   \n",
       "\n",
       "  raw_misd_state_citation_issued raw_suspect_ethnicity raw_driver_searched  \\\n",
       "0                            NaN                     N               False   \n",
       "1                            NaN                     N               False   \n",
       "2                            NaN                     N               False   \n",
       "3                            NaN                     N               False   \n",
       "4                            NaN                     N                True   \n",
       "\n",
       "  raw_passenger_searched raw_search_consent  raw_search_arrest  \\\n",
       "0                  False              False              False   \n",
       "1                  False              False              False   \n",
       "2                  False              False              False   \n",
       "3                  False              False              False   \n",
       "4                   True              False              False   \n",
       "\n",
       "  raw_search_warrant raw_search_inventory raw_search_plain_view  \n",
       "0              False                False                 False  \n",
       "1              False                False                 False  \n",
       "2              False                False                 False  \n",
       "3              False                False                 False  \n",
       "4              False                False                 False  \n",
       "\n",
       "[5 rows x 38 columns]"
      ]
     },
     "execution_count": 50,
     "metadata": {},
     "output_type": "execute_result"
    }
   ],
   "source": [
    "policing_df.head()"
   ]
  },
  {
   "cell_type": "code",
   "execution_count": 51,
   "metadata": {},
   "outputs": [
    {
     "name": "stdout",
     "output_type": "stream",
     "text": [
      "         DATE rating\n",
      "0  2000-01-01    bad\n",
      "1  2000-01-02    bad\n",
      "2  2000-01-03    bad\n",
      "3  2000-01-04  worse\n",
      "4  2000-01-05   good\n"
     ]
    }
   ],
   "source": [
    "# Create a DataFrame from the 'DATE' and 'rating' columns\n",
    "weather_rating = weather_df[['DATE', 'rating']]\n",
    "\n",
    "# Examine the head of 'weather_rating'\n",
    "print(weather_rating.head())"
   ]
  },
  {
   "cell_type": "code",
   "execution_count": 56,
   "metadata": {},
   "outputs": [
    {
     "name": "stdout",
     "output_type": "stream",
     "text": [
      "(3079529, 38)\n",
      "               stop_datetime raw_row_number        date      time  \\\n",
      "0                        NaN         232947  2010-10-10       NaN   \n",
      "1        2010-10-10 10:00:00         237161  2010-10-10  10:00:00   \n",
      "2        2010-10-10 10:00:00         232902  2010-10-10  10:00:00   \n",
      "3        2010-10-10 22:00:00         233219  2010-10-10  22:00:00   \n",
      "4        2010-10-10 01:00:00         232780  2010-10-10  01:00:00   \n",
      "...                      ...            ...         ...       ...   \n",
      "3079524  2016-09-09 21:54:00        2555063  2016-09-09  21:54:00   \n",
      "3079525  2016-09-09 21:55:00        2555857  2016-09-09  21:55:00   \n",
      "3079526  2016-09-09 09:56:00        2554596  2016-09-09  09:56:00   \n",
      "3079527  2016-09-09 09:56:00        2560219  2016-09-09  09:56:00   \n",
      "3079528  2016-09-09 21:57:00        2555099  2016-09-09  21:57:00   \n",
      "\n",
      "                                                  location        lat  \\\n",
      "0        DOMINICAN DR & ROSA L PARKS BLVD, NASHVILLE, T...  36.187925   \n",
      "1                  1122 LEBANON PIKE, NASHVILLE, TN, 37210  36.155521   \n",
      "2                             898 DAVIDSON DR, , TN, 37205  36.117420   \n",
      "3        MURFREESBORO PIKE & NASHBORO BLVD, ANTIOCH, TN...  36.086799   \n",
      "4                            BUCHANAN ST, NORTH, TN, 37208  36.180038   \n",
      "...                                                    ...        ...   \n",
      "3079524        44TH AVE N & PARK AVE, NASHVILLE, TN, 37209  36.151159   \n",
      "3079525                                              , , ,        NaN   \n",
      "3079526         ANNEX AVE & CAPRI DR, NASHVILLE, TN, 37209  36.147129   \n",
      "3079527  DICKERSON PIKE & GATEWOOD AVE, NASHVILLE, TN, ...  36.200178   \n",
      "3079528          BELL CREST DR & BELL RD, ANTIOCH, , 37013  36.063321   \n",
      "\n",
      "               lng precinct  reporting_area   zone  ...  \\\n",
      "0       -86.798519      6.0          4403.0  611.0  ...   \n",
      "1       -86.735902      5.0          9035.0  513.0  ...   \n",
      "2       -86.895593      1.0          5005.0  121.0  ...   \n",
      "3       -86.648581      3.0          8891.0  325.0  ...   \n",
      "4       -86.809109      NaN             NaN    NaN  ...   \n",
      "...            ...      ...             ...    ...  ...   \n",
      "3079524 -86.839514      1.0          5203.0  113.0  ...   \n",
      "3079525        NaN      NaN             NaN    NaN  ...   \n",
      "3079526 -86.888211      1.0          4675.0  123.0  ...   \n",
      "3079527 -86.769899      2.0          1863.0  223.0  ...   \n",
      "3079528 -86.637409      NaN             NaN    NaN  ...   \n",
      "\n",
      "         raw_suspect_ethnicity raw_driver_searched raw_passenger_searched  \\\n",
      "0                            N               False                  False   \n",
      "1                            N               False                  False   \n",
      "2                            N               False                  False   \n",
      "3                            N               False                  False   \n",
      "4                            N                True                   True   \n",
      "...                        ...                 ...                    ...   \n",
      "3079524                      N               False                  False   \n",
      "3079525                      N               False                  False   \n",
      "3079526                      N               False                  False   \n",
      "3079527                      H               False                  False   \n",
      "3079528                      N               False                  False   \n",
      "\n",
      "        raw_search_consent raw_search_arrest raw_search_warrant  \\\n",
      "0                    False             False              False   \n",
      "1                    False             False              False   \n",
      "2                    False             False              False   \n",
      "3                    False             False              False   \n",
      "4                    False             False              False   \n",
      "...                    ...               ...                ...   \n",
      "3079524              False             False              False   \n",
      "3079525              False             False              False   \n",
      "3079526              False             False              False   \n",
      "3079527              False             False              False   \n",
      "3079528              False             False              False   \n",
      "\n",
      "         raw_search_inventory raw_search_plain_view        DATE rating  \n",
      "0                       False                 False  2010-10-10   good  \n",
      "1                       False                 False  2010-10-10   good  \n",
      "2                       False                 False  2010-10-10   good  \n",
      "3                       False                 False  2010-10-10   good  \n",
      "4                       False                 False  2010-10-10   good  \n",
      "...                       ...                   ...         ...    ...  \n",
      "3079524                 False                 False  2016-09-09   good  \n",
      "3079525                 False                 False  2016-09-09   good  \n",
      "3079526                 False                 False  2016-09-09   good  \n",
      "3079527                 False                 False  2016-09-09   good  \n",
      "3079528                 False                 False  2016-09-09   good  \n",
      "\n",
      "[3079529 rows x 40 columns]\n"
     ]
    }
   ],
   "source": [
    "# Examine the shape of 'ri'\n",
    "print(policing_df.shape)\n",
    "\n",
    "# Merge 'ri' and 'weather_rating' using a left join\n",
    "policing_weather_df = pd.merge(left=policing_df, right=weather_rating, left_on='date', right_on='DATE', how='left')\n",
    "\n",
    "# Examine the shape of 'ri_weather'\n",
    "print(policing_weather_df)\n",
    "\n",
    "# Set 'stop_datetime' as the index of 'ri_weather'\n",
    "policing_weather_df.set_index('stop_datetime', inplace=True)"
   ]
  },
  {
   "cell_type": "code",
   "execution_count": 57,
   "metadata": {},
   "outputs": [],
   "source": [
    "policing_weather_df.to_csv('policing_weather_df.csv', index=True)"
   ]
  },
  {
   "cell_type": "code",
   "execution_count": 70,
   "metadata": {
    "scrolled": false
   },
   "outputs": [
    {
     "data": {
      "text/plain": [
       "rating\n",
       "bad      0.016298\n",
       "good     0.016044\n",
       "worse    0.019800\n",
       "Name: arrest_made, dtype: float64"
      ]
     },
     "execution_count": 70,
     "metadata": {},
     "output_type": "execute_result"
    }
   ],
   "source": [
    "policing_weather_df.groupby('rating').arrest_made.mean()"
   ]
  },
  {
   "cell_type": "code",
   "execution_count": 71,
   "metadata": {},
   "outputs": [
    {
     "data": {
      "text/plain": [
       "violation                    rating\n",
       "child restraint              bad       0.036522\n",
       "                             good      0.025097\n",
       "                             worse     0.181818\n",
       "investigative stop           bad       0.079678\n",
       "                             good      0.085474\n",
       "                             worse     0.079046\n",
       "moving traffic violation     bad       0.014834\n",
       "                             good      0.014513\n",
       "                             worse     0.018629\n",
       "parking violation            bad       0.011006\n",
       "                             good      0.010638\n",
       "                             worse     0.024390\n",
       "registration                 bad       0.017268\n",
       "                             good      0.017018\n",
       "                             worse     0.015903\n",
       "safety violation             bad       0.014873\n",
       "                             good      0.014501\n",
       "                             worse     0.017791\n",
       "seatbelt violation           bad       0.017129\n",
       "                             good      0.016980\n",
       "                             worse     0.013739\n",
       "vehicle equipment violation  bad       0.014714\n",
       "                             good      0.014477\n",
       "                             worse     0.017332\n",
       "Name: arrest_made, dtype: float64"
      ]
     },
     "execution_count": 71,
     "metadata": {},
     "output_type": "execute_result"
    }
   ],
   "source": [
    "policing_weather_df.groupby(['violation', 'rating']).arrest_made.mean()"
   ]
  },
  {
   "cell_type": "code",
   "execution_count": 67,
   "metadata": {},
   "outputs": [
    {
     "data": {
      "text/plain": [
       "Index(['raw_row_number', 'date', 'time', 'location', 'lat', 'lng', 'precinct',\n",
       "       'reporting_area', 'zone', 'subject_age', 'subject_race', 'subject_sex',\n",
       "       'officer_id_hash', 'type', 'violation', 'arrest_made',\n",
       "       'citation_issued', 'warning_issued', 'outcome', 'frisk_performed',\n",
       "       'search_conducted', 'search_person', 'search_vehicle',\n",
       "       'reason_for_stop', 'vehicle_registration_state',\n",
       "       'raw_verbal_warning_issued', 'raw_written_warning_issued',\n",
       "       'raw_traffic_citation_issued', 'raw_misd_state_citation_issued',\n",
       "       'raw_suspect_ethnicity', 'raw_driver_searched',\n",
       "       'raw_passenger_searched', 'raw_search_consent', 'raw_search_arrest',\n",
       "       'raw_search_warrant', 'raw_search_inventory', 'raw_search_plain_view',\n",
       "       'DATE', 'rating'],\n",
       "      dtype='object')"
      ]
     },
     "execution_count": 67,
     "metadata": {},
     "output_type": "execute_result"
    }
   ],
   "source": [
    "policing_weather_df.columns"
   ]
  },
  {
   "cell_type": "markdown",
   "metadata": {},
   "source": [
    "## Logistic Regression"
   ]
  },
  {
   "cell_type": "code",
   "execution_count": 2,
   "metadata": {},
   "outputs": [
    {
     "name": "stderr",
     "output_type": "stream",
     "text": [
      "/home/rabajaj/.conda/envs/rpb/lib/python3.8/site-packages/IPython/core/interactiveshell.py:3441: DtypeWarning: Columns (7,9,17,18,20,21,22,23,26,27,28,29,31,32,33,34,36,37) have mixed types.Specify dtype option on import or set low_memory=False.\n",
      "  exec(code_obj, self.user_global_ns, self.user_ns)\n"
     ]
    }
   ],
   "source": [
    "df = pd.read_csv('policing_weather_df.csv')"
   ]
  },
  {
   "cell_type": "code",
   "execution_count": 3,
   "metadata": {
    "scrolled": true
   },
   "outputs": [
    {
     "data": {
      "text/plain": [
       "Index(['stop_datetime', 'raw_row_number', 'date', 'time', 'location', 'lat',\n",
       "       'lng', 'precinct', 'reporting_area', 'zone', 'subject_age',\n",
       "       'subject_race', 'subject_sex', 'officer_id_hash', 'type', 'violation',\n",
       "       'arrest_made', 'citation_issued', 'warning_issued', 'outcome',\n",
       "       'frisk_performed', 'search_conducted', 'search_person',\n",
       "       'search_vehicle', 'reason_for_stop', 'vehicle_registration_state',\n",
       "       'raw_verbal_warning_issued', 'raw_written_warning_issued',\n",
       "       'raw_traffic_citation_issued', 'raw_misd_state_citation_issued',\n",
       "       'raw_suspect_ethnicity', 'raw_driver_searched',\n",
       "       'raw_passenger_searched', 'raw_search_consent', 'raw_search_arrest',\n",
       "       'raw_search_warrant', 'raw_search_inventory', 'raw_search_plain_view',\n",
       "       'DATE', 'rating'],\n",
       "      dtype='object')"
      ]
     },
     "execution_count": 3,
     "metadata": {},
     "output_type": "execute_result"
    }
   ],
   "source": [
    "df.columns"
   ]
  },
  {
   "cell_type": "code",
   "execution_count": 116,
   "metadata": {},
   "outputs": [],
   "source": [
    "def changeArrestsMade(row):\n",
    "    if row == True:\n",
    "        row_answer = 1\n",
    "    else:\n",
    "        row_answer = 0\n",
    "    return row_answer\n",
    "\n",
    "\n",
    "df['arrest_made'] = df['arrest_made'].apply(lambda row: changeArrestsMade(row))"
   ]
  },
  {
   "cell_type": "code",
   "execution_count": 133,
   "metadata": {},
   "outputs": [],
   "source": [
    "df1 = df[[ 'subject_age', 'subject_race', 'subject_sex', 'type', 'arrest_made', 'citation_issued', 'warning_issued',\n",
    "          'outcome', 'search_conducted', 'reason_for_stop', 'violation', 'frisk_performed' ]]\n",
    "df1 = df1.dropna()"
   ]
  },
  {
   "cell_type": "code",
   "execution_count": 156,
   "metadata": {},
   "outputs": [],
   "source": [
    "df2 = df1.sample(frac = 1.0).groupby('arrest_made').head(45000)"
   ]
  },
  {
   "cell_type": "code",
   "execution_count": 157,
   "metadata": {},
   "outputs": [
    {
     "data": {
      "text/plain": [
       "0    45000\n",
       "1    45000\n",
       "Name: arrest_made, dtype: int64"
      ]
     },
     "execution_count": 157,
     "metadata": {},
     "output_type": "execute_result"
    }
   ],
   "source": [
    "df2.arrest_made.value_counts()"
   ]
  },
  {
   "cell_type": "code",
   "execution_count": 158,
   "metadata": {},
   "outputs": [],
   "source": [
    "ade = df2[[ 'subject_race', 'subject_sex',\n",
    "             'reason_for_stop', 'violation', 'frisk_performed']]"
   ]
  },
  {
   "cell_type": "code",
   "execution_count": 159,
   "metadata": {},
   "outputs": [],
   "source": [
    "adex = pd.get_dummies(ade)"
   ]
  },
  {
   "cell_type": "code",
   "execution_count": 136,
   "metadata": {},
   "outputs": [
    {
     "data": {
      "text/plain": [
       "subject_race            subject_sex  reason_for_stop              violation                    frisk_performed\n",
       "white                   male         moving traffic violation     moving traffic violation     False              519649\n",
       "                        female       moving traffic violation     moving traffic violation     False              351180\n",
       "                        male         vehicle equipment violation  vehicle equipment violation  False              301088\n",
       "black                   male         moving traffic violation     moving traffic violation     False              279482\n",
       "                        female       moving traffic violation     moving traffic violation     False              238990\n",
       "                                                                                                                   ...  \n",
       "hispanic                male         child restraint              child restraint              True                    1\n",
       "asian/pacific islander  female       parking violation            parking violation            True                    1\n",
       "unknown                 female       seatbelt violation           seatbelt violation           True                    1\n",
       "other                   female       parking violation            parking violation            False                   1\n",
       "                                     seatbelt violation           seatbelt violation           True                    1\n",
       "Length: 174, dtype: int64"
      ]
     },
     "execution_count": 136,
     "metadata": {},
     "output_type": "execute_result"
    }
   ],
   "source": [
    "ade.value_counts()"
   ]
  },
  {
   "cell_type": "code",
   "execution_count": 160,
   "metadata": {},
   "outputs": [],
   "source": [
    "adex['subject_age'] = df1['subject_age'].astype('int')\n",
    "adex['citation_issued'] = df1.citation_issued.astype('int')\n",
    "adex['warning_issued'] = df1.warning_issued.astype('int')"
   ]
  },
  {
   "cell_type": "code",
   "execution_count": 161,
   "metadata": {},
   "outputs": [],
   "source": [
    "yval = df2['arrest_made']"
   ]
  },
  {
   "cell_type": "code",
   "execution_count": 162,
   "metadata": {},
   "outputs": [],
   "source": [
    "import numpy as np\n",
    "from sklearn.model_selection import train_test_split\n",
    "\n",
    "X_train, X_test, y_train, y_test = train_test_split(adex, yval, test_size=0.30, random_state=101, stratify=yval)"
   ]
  },
  {
   "cell_type": "code",
   "execution_count": 163,
   "metadata": {},
   "outputs": [
    {
     "name": "stderr",
     "output_type": "stream",
     "text": [
      "/home/rabajaj/.conda/envs/rpb/lib/python3.8/site-packages/sklearn/linear_model/_logistic.py:814: ConvergenceWarning: lbfgs failed to converge (status=1):\n",
      "STOP: TOTAL NO. of ITERATIONS REACHED LIMIT.\n",
      "\n",
      "Increase the number of iterations (max_iter) or scale the data as shown in:\n",
      "    https://scikit-learn.org/stable/modules/preprocessing.html\n",
      "Please also refer to the documentation for alternative solver options:\n",
      "    https://scikit-learn.org/stable/modules/linear_model.html#logistic-regression\n",
      "  n_iter_i = _check_optimize_result(\n"
     ]
    }
   ],
   "source": [
    "from sklearn.linear_model import LogisticRegression\n",
    "lgr = LogisticRegression()\n",
    "lgr.fit(X_train, y_train)\n",
    "test_predictions = lgr.predict(X_test)\n",
    "train_predictions = lgr.predict(X_train)"
   ]
  },
  {
   "cell_type": "code",
   "execution_count": 164,
   "metadata": {},
   "outputs": [
    {
     "name": "stdout",
     "output_type": "stream",
     "text": [
      "Train Classification\n",
      "              precision    recall  f1-score   support\n",
      "\n",
      "           0       0.78      0.91      0.84     31500\n",
      "           1       0.89      0.75      0.81     31500\n",
      "\n",
      "    accuracy                           0.83     63000\n",
      "   macro avg       0.84      0.83      0.83     63000\n",
      "weighted avg       0.84      0.83      0.83     63000\n",
      "\n",
      "-----------------------------------------------\n",
      "Test Classification\n",
      "              precision    recall  f1-score   support\n",
      "\n",
      "           0       0.78      0.91      0.84     13500\n",
      "           1       0.89      0.75      0.81     13500\n",
      "\n",
      "    accuracy                           0.83     27000\n",
      "   macro avg       0.84      0.83      0.83     27000\n",
      "weighted avg       0.84      0.83      0.83     27000\n",
      "\n"
     ]
    }
   ],
   "source": [
    "from sklearn.metrics import classification_report\n",
    "print(\"Train Classification\")\n",
    "print(classification_report(y_train, train_predictions ))\n",
    "print(\"-----------------------------------------------\")\n",
    "print(\"Test Classification\")\n",
    "print(classification_report(y_test, test_predictions ))"
   ]
  },
  {
   "cell_type": "code",
   "execution_count": 165,
   "metadata": {},
   "outputs": [
    {
     "data": {
      "text/plain": [
       "0.8275185185185185"
      ]
     },
     "execution_count": 165,
     "metadata": {},
     "output_type": "execute_result"
    }
   ],
   "source": [
    "lgr.score(X_test, y_test)"
   ]
  },
  {
   "cell_type": "code",
   "execution_count": 166,
   "metadata": {},
   "outputs": [
    {
     "data": {
      "text/plain": [
       "RandomForestClassifier(random_state=0)"
      ]
     },
     "execution_count": 166,
     "metadata": {},
     "output_type": "execute_result"
    }
   ],
   "source": [
    "from sklearn.ensemble import RandomForestClassifier\n",
    "from sklearn.datasets import make_classification\n",
    "\n",
    "clf = RandomForestClassifier(random_state=0)\n",
    "clf.fit(X_train, y_train)"
   ]
  },
  {
   "cell_type": "code",
   "execution_count": 167,
   "metadata": {},
   "outputs": [],
   "source": [
    "test_predictions = clf.predict(X_test)\n",
    "train_predictions = clf.predict(X_train)"
   ]
  },
  {
   "cell_type": "code",
   "execution_count": 168,
   "metadata": {},
   "outputs": [
    {
     "name": "stdout",
     "output_type": "stream",
     "text": [
      "Train Classification\n",
      "              precision    recall  f1-score   support\n",
      "\n",
      "           0       0.81      0.93      0.87     31500\n",
      "           1       0.92      0.78      0.85     31500\n",
      "\n",
      "    accuracy                           0.86     63000\n",
      "   macro avg       0.87      0.86      0.86     63000\n",
      "weighted avg       0.87      0.86      0.86     63000\n",
      "\n",
      "-----------------------------------------------\n",
      "Test Classification\n",
      "              precision    recall  f1-score   support\n",
      "\n",
      "           0       0.79      0.91      0.84     13500\n",
      "           1       0.89      0.75      0.82     13500\n",
      "\n",
      "    accuracy                           0.83     27000\n",
      "   macro avg       0.84      0.83      0.83     27000\n",
      "weighted avg       0.84      0.83      0.83     27000\n",
      "\n"
     ]
    }
   ],
   "source": [
    "from sklearn.metrics import classification_report\n",
    "print(\"Train Classification\")\n",
    "print(classification_report(y_train, train_predictions ))\n",
    "print(\"-----------------------------------------------\")\n",
    "print(\"Test Classification\")\n",
    "print(classification_report(y_test, test_predictions ))"
   ]
  },
  {
   "cell_type": "code",
   "execution_count": 149,
   "metadata": {},
   "outputs": [
    {
     "name": "stdout",
     "output_type": "stream",
     "text": [
      "0.991159237068179\n",
      "---------------------------------------\n",
      "0.9904639847076201\n"
     ]
    }
   ],
   "source": [
    "from sklearn.metrics import accuracy_score\n",
    "print(accuracy_score(y_train, train_predictions))\n",
    "print(\"---------------------------------------\")\n",
    "print(accuracy_score(y_test, test_predictions))\n",
    "\n"
   ]
  },
  {
   "cell_type": "code",
   "execution_count": null,
   "metadata": {},
   "outputs": [],
   "source": [
    "# Importing all necessary libraries\n",
    "from sklearn.metrics import roc_curve, auc\n",
    "\n",
    "test_class_probabilities = clf.predict_proba(X_test)\n",
    "train_class_probabilities = \n",
    "preds = class_probabilities[:, 1]\n",
    "\n",
    "fpr, tpr, threshold = roc_curve(y_test, preds)\n",
    "roc_auc = auc(fpr, tpr)\n",
    "\n",
    "# Printing AUC\n",
    "print(f\"AUC for our classifier is: {roc_auc}\")\n",
    "\n",
    "# Plotting the ROC\n",
    "plt.title('Receiver Operating Characteristic')\n",
    "plt.plot(fpr, tpr, 'b', label = 'AUC = %0.2f' % roc_auc)\n",
    "plt.legend(loc = 'lower right')\n",
    "plt.plot([0, 1], [0, 1],'r--')\n",
    "plt.xlim([0, 1])\n",
    "plt.ylim([0, 1])\n",
    "plt.ylabel('True Positive Rate')\n",
    "plt.xlabel('False Positive Rate')\n",
    "plt.show()"
   ]
  }
 ],
 "metadata": {
  "kernelspec": {
   "display_name": "Python 3 (ipykernel)",
   "language": "python",
   "name": "python3"
  },
  "language_info": {
   "codemirror_mode": {
    "name": "ipython",
    "version": 3
   },
   "file_extension": ".py",
   "mimetype": "text/x-python",
   "name": "python",
   "nbconvert_exporter": "python",
   "pygments_lexer": "ipython3",
   "version": "3.8.12"
  }
 },
 "nbformat": 4,
 "nbformat_minor": 4
}
